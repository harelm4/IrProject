{
  "nbformat": 4,
  "nbformat_minor": 0,
  "metadata": {
    "colab": {
      "name": "Untitled1.ipynb",
      "provenance": [],
      "collapsed_sections": [],
      "include_colab_link": true
    },
    "kernelspec": {
      "name": "python3",
      "display_name": "Python 3"
    },
    "language_info": {
      "name": "python"
    }
  },
  "cells": [
    {
      "cell_type": "markdown",
      "metadata": {
        "id": "view-in-github",
        "colab_type": "text"
      },
      "source": [
        "<a href=\"https://colab.research.google.com/github/harelm4/IrProject/blob/master/small.ipynb\" target=\"_parent\"><img src=\"https://colab.research.google.com/assets/colab-badge.svg\" alt=\"Open In Colab\"/></a>"
      ]
    },
    {
      "cell_type": "markdown",
      "source": [
        "#Imports"
      ],
      "metadata": {
        "id": "udVmmcNf0c1X"
      }
    },
    {
      "cell_type": "code",
      "source": [
        "import sys\n",
        "from collections import Counter, OrderedDict\n",
        "import itertools\n",
        "from itertools import islice, count, groupby\n",
        "import pandas as pd\n",
        "import os\n",
        "import re\n",
        "from operator import itemgetter\n",
        "import nltk\n",
        "from nltk.stem.porter import *\n",
        "from nltk.corpus import stopwords\n",
        "from time import time\n",
        "from timeit import timeit\n",
        "from pathlib import Path\n",
        "import pickle\n",
        "import pandas as pd\n",
        "import numpy as np\n",
        "from google.cloud import storage\n",
        "import math\n",
        "nltk.download('stopwords')\n",
        "import builtins\n",
        "\n",
        "\n",
        "import numpy as np\n",
        "import pandas as pd\n",
        "%load_ext google.colab.data_table\n",
        "import bz2\n",
        "from functools import partial\n",
        "from collections import Counter, OrderedDict\n",
        "import pickle\n",
        "import heapq\n",
        "from itertools import islice, count, groupby\n",
        "from xml.etree import ElementTree\n",
        "import codecs\n",
        "import csv\n",
        "import os\n",
        "import re\n",
        "from operator import itemgetter\n",
        "import nltk\n",
        "from nltk.stem.porter import *\n",
        "from nltk.corpus import stopwords\n",
        "import matplotlib.pyplot as plt\n",
        "%matplotlib inline\n",
        "from pathlib import Path\n",
        "import itertools\n",
        "from time import time\n",
        "import hashlib\n",
        "def _hash(s):\n",
        "    return hashlib.blake2b(bytes(s, encoding='utf8'), digest_size=5).hexdigest()\n",
        "\n",
        "\n"
      ],
      "metadata": {
        "colab": {
          "base_uri": "https://localhost:8080/"
        },
        "id": "Zmg92hymzjtI",
        "outputId": "f6fd4f0f-1068-419b-9bd3-3d60f02b8db6"
      },
      "execution_count": 2,
      "outputs": [
        {
          "output_type": "stream",
          "name": "stdout",
          "text": [
            "[nltk_data] Downloading package stopwords to /root/nltk_data...\n",
            "[nltk_data]   Unzipping corpora/stopwords.zip.\n"
          ]
        }
      ]
    },
    {
      "cell_type": "markdown",
      "source": [
        "\n",
        "#helper functions"
      ],
      "metadata": {
        "id": "xPZqaHvRBJyR"
      }
    },
    {
      "cell_type": "code",
      "source": [
        "def flatten_lst(t):\n",
        "    return [item for sublist in t for item in sublist]"
      ],
      "metadata": {
        "id": "mDNKiHcDGn5w"
      },
      "execution_count": 45,
      "outputs": []
    },
    {
      "cell_type": "code",
      "source": [
        "def unq(list1):\n",
        " \n",
        "    # initialize a null list\n",
        "    unique_list = []\n",
        "     \n",
        "    # traverse for all elements\n",
        "    for x in list1:\n",
        "        # check if exists in unique_list or not\n",
        "        if x not in unique_list:\n",
        "            unique_list.append(x)\n",
        "    return unique_list"
      ],
      "metadata": {
        "id": "pOhTHMbjFMhb"
      },
      "execution_count": 14,
      "outputs": []
    },
    {
      "cell_type": "markdown",
      "source": [
        "#getting json query data"
      ],
      "metadata": {
        "id": "ilQgM7m3BPgs"
      }
    },
    {
      "cell_type": "code",
      "source": [
        "import json\n",
        "\n",
        "\n",
        "with open('queries_train.json', 'rt') as f:\n",
        "  queries_to_docs_raw = json.load(f)\n",
        "\n",
        "doc_lst=flatten_lst([docs for q,docs in queries_to_docs_raw.items()])\n"
      ],
      "metadata": {
        "id": "b4AgDWF4TwXa"
      },
      "execution_count": 46,
      "outputs": []
    },
    {
      "cell_type": "markdown",
      "source": [
        "#**index from assignment 2**"
      ],
      "metadata": {
        "id": "CJlA9PHUI8Ai"
      }
    },
    {
      "cell_type": "code",
      "source": [
        "import sys\n",
        "from collections import Counter, OrderedDict, defaultdict\n",
        "import itertools\n",
        "from itertools import islice, count, groupby\n",
        "import os\n",
        "import re\n",
        "from operator import itemgetter\n",
        "from pathlib import Path\n",
        "import pickle\n",
        "from contextlib import closing\n",
        "\n",
        "BLOCK_SIZE = 1999998\n",
        "\n",
        "class MultiFileWriter:\n",
        "    \"\"\" Sequential binary writer to multiple files of up to BLOCK_SIZE each. \"\"\"\n",
        "    def __init__(self, base_dir, name):\n",
        "        self._base_dir = Path(base_dir)\n",
        "        self._name = name\n",
        "        self._file_gen = (open(self._base_dir / f'{name}_{i:03}.bin', 'wb') \n",
        "                          for i in itertools.count())\n",
        "        self._f = next(self._file_gen)\n",
        "    \n",
        "    def write(self, b):\n",
        "      locs = []\n",
        "      while len(b) > 0:\n",
        "        pos = self._f.tell()\n",
        "        remaining = BLOCK_SIZE - pos\n",
        "        # if the current file is full, close and open a new one.\n",
        "        if remaining == 0:  \n",
        "          self._f.close()\n",
        "          self._f = next(self._file_gen)\n",
        "          pos, remaining = 0, BLOCK_SIZE\n",
        "        self._f.write(b[:remaining])\n",
        "        locs.append((self._f.name, pos))\n",
        "        b = b[remaining:]\n",
        "      return locs\n",
        "\n",
        "    def close(self):\n",
        "      self._f.close()\n",
        "\n",
        "class MultiFileReader:\n",
        "  \"\"\" Sequential binary reader of multiple files of up to BLOCK_SIZE each. \"\"\"\n",
        "  def __init__(self):\n",
        "    self._open_files = {}\n",
        "\n",
        "  def read(self, locs, n_bytes):\n",
        "    b = []\n",
        "    for f_name, offset in locs:\n",
        "      if f_name not in self._open_files:\n",
        "        self._open_files[f_name] = open(f_name, 'rb')\n",
        "      f = self._open_files[f_name]\n",
        "      f.seek(offset)\n",
        "      n_read = builtins.min(n_bytes, BLOCK_SIZE - offset)\n",
        "      b.append(f.read(n_read))\n",
        "      n_bytes -= n_read\n",
        "    return b''.join(b)\n",
        "  \n",
        "  def close(self):\n",
        "    for f in self._open_files.values():\n",
        "      f.close()\n",
        "\n",
        "  def __exit__(self, exc_type, exc_value, traceback):\n",
        "    self.close()\n",
        "    return False\n",
        "\n",
        "TUPLE_SIZE = 6       # We're going to pack the doc_id and tf values in this \n",
        "                     # many bytes.\n",
        "TF_MASK = 2 ** 16 - 1 # Masking the 16 low bits of an integer\n",
        "\n",
        "class InvertedIndex:  \n",
        "  def __init__(self, docs={}):\n",
        "    \"\"\" Initializes the inverted index and add documents to it (if provided).\n",
        "    Parameters:\n",
        "    -----------\n",
        "      docs: dict mapping doc_id to list of tokens\n",
        "    \"\"\"\n",
        "    # stores document frequency per term\n",
        "    self.df = Counter()\n",
        "    # stores total frequency per term\n",
        "    self.term_total = Counter()\n",
        "    # stores posting list per term while building the index (internally), \n",
        "    # otherwise too big to store in memory.\n",
        "    self._posting_list = defaultdict(list)\n",
        "    # mapping a term to posting file locations, which is a list of \n",
        "    # (file_name, offset) pairs. Since posting lists are big we are going to\n",
        "    # write them to disk and just save their location in this list. We are \n",
        "    # using the MultiFileWriter helper class to write fixed-size files and store\n",
        "    # for each term/posting list its list of locations. The offset represents \n",
        "    # the number of bytes from the beginning of the file where the posting list\n",
        "    # starts. \n",
        "    self.posting_locs = defaultdict(list)\n",
        "\n",
        "\n",
        "    \n",
        "    for doc_id, tokens in docs.items():\n",
        "      self.add_doc(doc_id, tokens)\n",
        "\n",
        "  def add_doc(self, doc_id, tokens):\n",
        "    \"\"\" Adds a document to the index with a given `doc_id` and tokens. It counts\n",
        "        the tf of tokens, then update the index (in memory, no storage \n",
        "        side-effects).\n",
        "    \"\"\"\n",
        "    w2cnt = Counter(tokens)\n",
        "    self.term_total.update(w2cnt)\n",
        "    for w, cnt in w2cnt.items():\n",
        "      self.df[w] = self.df.get(w, 0) + 1\n",
        "      self._posting_list[w].append((doc_id, cnt))\n",
        "\n",
        "  def write_index(self, base_dir, name):\n",
        "    \"\"\" Write the in-memory index to disk. Results in the file: \n",
        "        (1) `name`.pkl containing the global term stats (e.g. df).\n",
        "    \"\"\"\n",
        "    self._write_globals(base_dir, name)\n",
        "\n",
        "  def _write_globals(self, base_dir, name):\n",
        "    with open(Path(base_dir) / f'{name}.pkl', 'wb') as f:\n",
        "      pickle.dump(self, f)\n",
        "\n",
        "  def __getstate__(self):\n",
        "    \"\"\" Modify how the object is pickled by removing the internal posting lists\n",
        "        from the object's state dictionary. \n",
        "    \"\"\"\n",
        "    state = self.__dict__.copy()\n",
        "    del state['_posting_list']\n",
        "    return state\n",
        "\n",
        "  def posting_lists_iter(self):\n",
        "    \"\"\" A generator that reads one posting list from disk and yields \n",
        "        a (word:str, [(doc_id:int, tf:int), ...]) tuple.\n",
        "    \"\"\"\n",
        "    with closing(MultiFileReader()) as reader:\n",
        "      for w, locs in self.posting_locs.items():\n",
        "        b = reader.read(locs, self.df[w] * TUPLE_SIZE)\n",
        "        posting_list = []\n",
        "        for i in range(self.df[w]):\n",
        "          doc_id = int.from_bytes(b[i*TUPLE_SIZE:i*TUPLE_SIZE+4], 'big')\n",
        "          tf = int.from_bytes(b[i*TUPLE_SIZE+4:(i+1)*TUPLE_SIZE], 'big')\n",
        "          posting_list.append((doc_id, tf))\n",
        "        yield w, posting_list\n",
        "\n",
        "\n",
        "  @staticmethod\n",
        "  def read_index(base_dir, name):\n",
        "    with open(Path(base_dir) / f'{name}.pkl', 'rb') as f:\n",
        "      return pickle.load(f)\n",
        "\n",
        "  @staticmethod\n",
        "  def delete_index(base_dir, name):\n",
        "    path_globals = Path(base_dir) / f'{name}.pkl'\n",
        "    path_globals.unlink()\n",
        "    for p in Path(base_dir).rglob(f'{name}_*.bin'):\n",
        "      p.unlink()\n",
        "\n",
        "\n",
        "  @staticmethod\n",
        "  def write_a_posting_list(b_w_pl):\n",
        "    ''' Takes a (bucket_id, [(w0, posting_list_0), (w1, posting_list_1), ...]) \n",
        "    and writes it out to disk as files named {bucket_id}_XXX.bin under the \n",
        "    current directory. Returns a posting locations dictionary that maps each \n",
        "    word to the list of files and offsets that contain its posting list.\n",
        "    Parameters:\n",
        "    -----------\n",
        "      b_w_pl: tuple\n",
        "        Containing a bucket id and all (word, posting list) pairs in that bucket\n",
        "        (bucket_id, [(w0, posting_list_0), (w1, posting_list_1), ...])\n",
        "    Return:\n",
        "      posting_locs: dict\n",
        "        Posting locations for each of the words written out in this bucket.\n",
        "    '''\n",
        "    posting_locs = defaultdict(list)\n",
        "    bucket, list_w_pl = b_w_pl\n",
        "\n",
        "    with closing(MultiFileWriter('.', bucket)) as writer:\n",
        "      for w, pl in list_w_pl: \n",
        "        # convert to bytes\n",
        "        b = b''.join([(doc_id << 16 | (tf & TF_MASK)).to_bytes(TUPLE_SIZE, 'big')\n",
        "                      for doc_id, tf in pl])\n",
        "        # write to file(s)\n",
        "        locs = writer.write(b)\n",
        "      # save file locations to index\n",
        "        posting_locs[w].extend(locs)\n",
        "    return posting_locs"
      ],
      "metadata": {
        "id": "LpAlNcW2wGwv"
      },
      "execution_count": 5,
      "outputs": []
    },
    {
      "cell_type": "markdown",
      "source": [
        "# pyspark crap and getting data from the bucket"
      ],
      "metadata": {
        "id": "aTO0Fd5I-OpC"
      }
    },
    {
      "cell_type": "code",
      "source": [
        "!pip install -q pyspark\n",
        "!pip install -U -q PyDrive\n",
        "!apt-get update\n",
        "!apt install openjdk-8-jdk-headless -qq\n",
        "!pip install -q graphframes\n",
        "import os\n",
        "os.environ[\"JAVA_HOME\"] = \"/usr/lib/jvm/java-8-openjdk-amd64\"\n",
        "graphframes_jar = 'https://repos.spark-packages.org/graphframes/graphframes/0.8.2-spark3.2-s_2.12/graphframes-0.8.2-spark3.2-s_2.12.jar'\n",
        "spark_jars = '/usr/local/lib/python3.7/dist-packages/pyspark/jars'\n",
        "!wget -N -P $spark_jars $graphframes_jar\n",
        "import pyspark\n",
        "from pyspark.sql import *\n",
        "from pyspark.sql.functions import *\n",
        "from pyspark import SparkContext, SparkConf\n",
        "from pyspark.sql import SQLContext\n",
        "from pyspark.ml.feature import Tokenizer, RegexTokenizer\n",
        "from graphframes import *\n"
      ],
      "metadata": {
        "id": "fWXXi_uK0E4P",
        "colab": {
          "base_uri": "https://localhost:8080/"
        },
        "outputId": "ceb11e6f-cd9f-4d84-8435-53468174a6b3"
      },
      "execution_count": 6,
      "outputs": [
        {
          "output_type": "stream",
          "name": "stdout",
          "text": [
            "\u001b[K     |████████████████████████████████| 281.3 MB 37 kB/s \n",
            "\u001b[K     |████████████████████████████████| 198 kB 38.7 MB/s \n",
            "\u001b[?25h  Building wheel for pyspark (setup.py) ... \u001b[?25l\u001b[?25hdone\n",
            "Ign:1 https://developer.download.nvidia.com/compute/cuda/repos/ubuntu1804/x86_64  InRelease\n",
            "Get:2 http://ppa.launchpad.net/c2d4u.team/c2d4u4.0+/ubuntu bionic InRelease [15.9 kB]\n",
            "Get:3 http://security.ubuntu.com/ubuntu bionic-security InRelease [88.7 kB]\n",
            "Hit:4 http://archive.ubuntu.com/ubuntu bionic InRelease\n",
            "Get:5 https://cloud.r-project.org/bin/linux/ubuntu bionic-cran40/ InRelease [3,626 B]\n",
            "Ign:6 https://developer.download.nvidia.com/compute/machine-learning/repos/ubuntu1804/x86_64  InRelease\n",
            "Get:7 https://developer.download.nvidia.com/compute/cuda/repos/ubuntu1804/x86_64  Release [696 B]\n",
            "Hit:8 https://developer.download.nvidia.com/compute/machine-learning/repos/ubuntu1804/x86_64  Release\n",
            "Get:9 https://developer.download.nvidia.com/compute/cuda/repos/ubuntu1804/x86_64  Release.gpg [836 B]\n",
            "Get:10 http://archive.ubuntu.com/ubuntu bionic-updates InRelease [88.7 kB]\n",
            "Hit:11 http://ppa.launchpad.net/cran/libgit2/ubuntu bionic InRelease\n",
            "Get:12 http://archive.ubuntu.com/ubuntu bionic-backports InRelease [74.6 kB]\n",
            "Get:13 http://ppa.launchpad.net/deadsnakes/ppa/ubuntu bionic InRelease [15.9 kB]\n",
            "Get:14 https://cloud.r-project.org/bin/linux/ubuntu bionic-cran40/ Packages [73.9 kB]\n",
            "Hit:16 http://ppa.launchpad.net/graphics-drivers/ppa/ubuntu bionic InRelease\n",
            "Get:17 https://developer.download.nvidia.com/compute/cuda/repos/ubuntu1804/x86_64  Packages [833 kB]\n",
            "Get:18 http://ppa.launchpad.net/c2d4u.team/c2d4u4.0+/ubuntu bionic/main Sources [1,821 kB]\n",
            "Get:19 http://security.ubuntu.com/ubuntu bionic-security/universe amd64 Packages [1,452 kB]\n",
            "Get:20 http://archive.ubuntu.com/ubuntu bionic-updates/universe amd64 Packages [2,230 kB]\n",
            "Get:21 http://security.ubuntu.com/ubuntu bionic-security/main amd64 Packages [2,461 kB]\n",
            "Get:22 http://security.ubuntu.com/ubuntu bionic-security/restricted amd64 Packages [691 kB]\n",
            "Get:23 http://ppa.launchpad.net/c2d4u.team/c2d4u4.0+/ubuntu bionic/main amd64 Packages [934 kB]\n",
            "Get:24 http://archive.ubuntu.com/ubuntu bionic-updates/main amd64 Packages [2,898 kB]\n",
            "Get:25 http://archive.ubuntu.com/ubuntu bionic-backports/universe amd64 Packages [12.6 kB]\n",
            "Get:26 http://archive.ubuntu.com/ubuntu bionic-backports/main amd64 Packages [11.6 kB]\n",
            "Get:27 http://ppa.launchpad.net/deadsnakes/ppa/ubuntu bionic/main amd64 Packages [45.3 kB]\n",
            "Fetched 13.8 MB in 4s (3,918 kB/s)\n",
            "Reading package lists... Done\n",
            "The following additional packages will be installed:\n",
            "  openjdk-8-jre-headless\n",
            "Suggested packages:\n",
            "  openjdk-8-demo openjdk-8-source libnss-mdns fonts-dejavu-extra\n",
            "  fonts-ipafont-gothic fonts-ipafont-mincho fonts-wqy-microhei\n",
            "  fonts-wqy-zenhei fonts-indic\n",
            "The following NEW packages will be installed:\n",
            "  openjdk-8-jdk-headless openjdk-8-jre-headless\n",
            "0 upgraded, 2 newly installed, 0 to remove and 85 not upgraded.\n",
            "Need to get 36.5 MB of archives.\n",
            "After this operation, 143 MB of additional disk space will be used.\n",
            "Selecting previously unselected package openjdk-8-jre-headless:amd64.\n",
            "(Reading database ... 155222 files and directories currently installed.)\n",
            "Preparing to unpack .../openjdk-8-jre-headless_8u312-b07-0ubuntu1~18.04_amd64.deb ...\n",
            "Unpacking openjdk-8-jre-headless:amd64 (8u312-b07-0ubuntu1~18.04) ...\n",
            "Selecting previously unselected package openjdk-8-jdk-headless:amd64.\n",
            "Preparing to unpack .../openjdk-8-jdk-headless_8u312-b07-0ubuntu1~18.04_amd64.deb ...\n",
            "Unpacking openjdk-8-jdk-headless:amd64 (8u312-b07-0ubuntu1~18.04) ...\n",
            "Setting up openjdk-8-jre-headless:amd64 (8u312-b07-0ubuntu1~18.04) ...\n",
            "update-alternatives: using /usr/lib/jvm/java-8-openjdk-amd64/jre/bin/orbd to provide /usr/bin/orbd (orbd) in auto mode\n",
            "update-alternatives: using /usr/lib/jvm/java-8-openjdk-amd64/jre/bin/servertool to provide /usr/bin/servertool (servertool) in auto mode\n",
            "update-alternatives: using /usr/lib/jvm/java-8-openjdk-amd64/jre/bin/tnameserv to provide /usr/bin/tnameserv (tnameserv) in auto mode\n",
            "Setting up openjdk-8-jdk-headless:amd64 (8u312-b07-0ubuntu1~18.04) ...\n",
            "update-alternatives: using /usr/lib/jvm/java-8-openjdk-amd64/bin/idlj to provide /usr/bin/idlj (idlj) in auto mode\n",
            "update-alternatives: using /usr/lib/jvm/java-8-openjdk-amd64/bin/wsimport to provide /usr/bin/wsimport (wsimport) in auto mode\n",
            "update-alternatives: using /usr/lib/jvm/java-8-openjdk-amd64/bin/jsadebugd to provide /usr/bin/jsadebugd (jsadebugd) in auto mode\n",
            "update-alternatives: using /usr/lib/jvm/java-8-openjdk-amd64/bin/native2ascii to provide /usr/bin/native2ascii (native2ascii) in auto mode\n",
            "update-alternatives: using /usr/lib/jvm/java-8-openjdk-amd64/bin/javah to provide /usr/bin/javah (javah) in auto mode\n",
            "update-alternatives: using /usr/lib/jvm/java-8-openjdk-amd64/bin/hsdb to provide /usr/bin/hsdb (hsdb) in auto mode\n",
            "update-alternatives: using /usr/lib/jvm/java-8-openjdk-amd64/bin/clhsdb to provide /usr/bin/clhsdb (clhsdb) in auto mode\n",
            "update-alternatives: using /usr/lib/jvm/java-8-openjdk-amd64/bin/xjc to provide /usr/bin/xjc (xjc) in auto mode\n",
            "update-alternatives: using /usr/lib/jvm/java-8-openjdk-amd64/bin/schemagen to provide /usr/bin/schemagen (schemagen) in auto mode\n",
            "update-alternatives: using /usr/lib/jvm/java-8-openjdk-amd64/bin/extcheck to provide /usr/bin/extcheck (extcheck) in auto mode\n",
            "update-alternatives: using /usr/lib/jvm/java-8-openjdk-amd64/bin/jhat to provide /usr/bin/jhat (jhat) in auto mode\n",
            "update-alternatives: using /usr/lib/jvm/java-8-openjdk-amd64/bin/wsgen to provide /usr/bin/wsgen (wsgen) in auto mode\n",
            "\u001b[K     |████████████████████████████████| 154 kB 4.8 MB/s \n",
            "\u001b[?25h--2021-12-29 16:00:21--  https://repos.spark-packages.org/graphframes/graphframes/0.8.2-spark3.2-s_2.12/graphframes-0.8.2-spark3.2-s_2.12.jar\n",
            "Resolving repos.spark-packages.org (repos.spark-packages.org)... 13.32.87.63, 13.32.87.119, 13.32.87.12, ...\n",
            "Connecting to repos.spark-packages.org (repos.spark-packages.org)|13.32.87.63|:443... connected.\n",
            "HTTP request sent, awaiting response... 200 OK\n",
            "Length: 247880 (242K) [binary/octet-stream]\n",
            "Saving to: ‘/usr/local/lib/python3.7/dist-packages/pyspark/jars/graphframes-0.8.2-spark3.2-s_2.12.jar’\n",
            "\n",
            "graphframes-0.8.2-s 100%[===================>] 242.07K  --.-KB/s    in 0.06s   \n",
            "\n",
            "2021-12-29 16:00:21 (3.93 MB/s) - ‘/usr/local/lib/python3.7/dist-packages/pyspark/jars/graphframes-0.8.2-spark3.2-s_2.12.jar’ saved [247880/247880]\n",
            "\n"
          ]
        }
      ]
    },
    {
      "cell_type": "code",
      "source": [
        "# Initializing spark context\n",
        "# create a spark context and session\n",
        "conf = SparkConf().set(\"spark.ui.port\", \"4050\")\n",
        "sc = SparkContext.getOrCreate(conf=conf)\n",
        "sc.addPyFile(str(Path(spark_jars) / Path(graphframes_jar).name))\n",
        "spark = SparkSession.builder.getOrCreate()"
      ],
      "metadata": {
        "id": "QmDBuCAj-MHY"
      },
      "execution_count": 7,
      "outputs": []
    },
    {
      "cell_type": "markdown",
      "source": [
        "Copying Wikidata"
      ],
      "metadata": {
        "id": "mo2yEIOX8u95"
      }
    },
    {
      "cell_type": "code",
      "source": [
        "# Authenticate your user\n",
        "# The authentication should be done with the email connected to your GCP account\n",
        "from google.colab import auth\n",
        "auth.authenticate_user()"
      ],
      "metadata": {
        "id": "-HA-zidH8yZ5"
      },
      "execution_count": 8,
      "outputs": []
    },
    {
      "cell_type": "code",
      "source": [
        "# Copy one wikidumps files \n",
        "import os\n",
        "from pathlib import Path\n",
        "from google.colab import auth\n",
        "\n",
        "project_id = 'core-period-321814'\n",
        "!gcloud config set project {project_id}\n",
        "\n",
        "data_bucket_name = 'wikidata_preprocessed'\n",
        "try:\n",
        "    if os.environ[\"wikidata_preprocessed\"] is not None:\n",
        "        pass  \n",
        "except:\n",
        "      !mkdir wikidumps\n",
        "      !gsutil cp gs://{data_bucket_name}/multistream1_preprocessed.parquet \"wikidumps/\" \n"
      ],
      "metadata": {
        "id": "tSEWv75R8zOz",
        "colab": {
          "base_uri": "https://localhost:8080/"
        },
        "outputId": "7969b295-02df-4e3c-fc19-ab31887ae896"
      },
      "execution_count": 9,
      "outputs": [
        {
          "output_type": "stream",
          "name": "stdout",
          "text": [
            "Updated property [core/project].\n",
            "\u001b[1;33mWARNING:\u001b[0m You do not appear to have access to project [core-period-321814] or it does not exist.\n",
            "\n",
            "\n",
            "To take a quick anonymous survey, run:\n",
            "  $ gcloud survey\n",
            "\n",
            "Copying gs://wikidata_preprocessed/multistream1_preprocessed.parquet...\n",
            "| [1 files][316.7 MiB/316.7 MiB]                                                \n",
            "Operation completed over 1 objects/316.7 MiB.                                    \n"
          ]
        }
      ]
    },
    {
      "cell_type": "markdown",
      "source": [
        "#getting wiki data"
      ],
      "metadata": {
        "id": "VEM0wf9mAdTN"
      }
    },
    {
      "cell_type": "code",
      "source": [
        "from pathlib import Path \n",
        "import os\n",
        "\n",
        "try:\n",
        "    if os.environ[\"wikidata_preprocessed\"] is not None:\n",
        "      path = os.environ[\"wikidata_preprocessed\"]+\"/wikidumps/*\"\n",
        "except:\n",
        "      path = \"wikidumps/*\"\n",
        "\n",
        "parquetFile = spark.read.parquet(path)\n",
        "wiki_data_body = parquetFile.select(\"id\",\"text\").rdd.filter(lambda x: x[0] in doc_lst)\n",
        "wiki_data_anchor = parquetFile.select(\"id\",\"anchor_text\").rdd.filter(lambda x: x[0] in doc_lst)\n",
        "wiki_data_title = parquetFile.select(\"id\",\"title\").rdd.filter(lambda x: x[0] in doc_lst)\n"
      ],
      "metadata": {
        "id": "rU7XuQDj84K5"
      },
      "execution_count": 65,
      "outputs": []
    },
    {
      "cell_type": "code",
      "source": [
        "wiki_data_anchor.first()"
      ],
      "metadata": {
        "id": "Uwd44TfuIOK6",
        "outputId": "19a89cd6-1961-4bcd-9c40-e83da34e0ec9",
        "colab": {
          "base_uri": "https://localhost:8080/"
        }
      },
      "execution_count": 78,
      "outputs": [
        {
          "output_type": "execute_result",
          "data": {
            "text/plain": [
              "Row(id=1857, anchor_text=[Row(id=29066482, text='electoral system'), Row(id=10880, text='plurality voting'), Row(id=25908, text='score voting'), Row(id=68033962, text='multiwinner approval voting'), Row(id=22767486, text='Ballotpedia'), Row(id=65885421, text='nonpartian primaries for'), Row(id=128485, text='Fargo, North Dakota'), Row(id=27687, text='St. Louis, Missouri'), Row(id=479210, text='secret'), Row(id=12108, text='Greece'), Row(id=2222268, text='Robert J. Weber'), Row(id=174860, text='Steven Brams'), Row(id=1787186, text='Peter Fishburn'), Row(id=827717, text='papal conclave'), Row(id=62143071, text='Josep Colomer'), Row(id=613492, text='Republic of Venice'), Row(id=63340, text='Doge of Venice'), Row(id=162415, text='Secretary-General'), Row(id=31769, text='United Nations'), Row(id=14400375, text='United Nations Secretary-General selection, 2006'), Row(id=770162, text='Shashi Tharoor'), Row(id=12108, text='Greek'), Row(id=12008038, text='Independent Party of Oregon'), Row(id=46699, text='fusion voting'), Row(id=346055, text='The Oregonian'), Row(id=57871745, text='STAR voting'), Row(id=42806136, text='American Solidarity Party'), Row(id=403244, text='Green Parties'), Row(id=5226603, text='Texas'), Row(id=11945308, text='Ohio'), Row(id=32044, text='Libertarian parties'), Row(id=10083285, text='Texas'), Row(id=5130911, text='Colorado'), Row(id=18328648, text='Modern Whig'), Row(id=23159376, text='German Pirate Party'), Row(id=23159376, text='German Pirate Party'), Row(id=128485, text='Fargo, North Dakota'), Row(id=22767486, text='Ballotpedia'), Row(id=538393, text='vote-splitting'), Row(id=235892, text='plurality'), Row(id=2407835, text='bullet voted'), Row(id=27687, text='St. Louis, Missouri'), Row(id=25932, text='top-two runoff'), Row(id=41550632, text='Unified primary'), Row(id=22767486, text='Ballotpedia'), Row(id=345974, text='St. Louis Post-Dispatch'), Row(id=1135560, text='Lloyd Shapley'), Row(id=48729126, text='authority distribution'), Row(id=198772, text='Mathematical Association of America'), Row(id=198772, text='Mathematical Association of America'), Row(id=198822, text='American Mathematical Society'), Row(id=198822, text='American Mathematical Society'), Row(id=9283668, text='Institute for Operations Research and the Management Sciences'), Row(id=341988, text='American Statistical Association'), Row(id=341988, text='American Statistical Association'), Row(id=56938, text='Institute of Electrical and Electronics Engineers'), Row(id=1329211, text='American Political Science Association'), Row(id=261709, text='First-Past-The-Post'), Row(id=538393, text='spoiler effect'), Row(id=68033962, text='Multiwinner approval voting'), Row(id=174867, text='Dudley R. Herschbach'), Row(id=23475293, text='electoral reform'), Row(id=2088552, text='FairVote'), Row(id=1725354, text='who would win an absolute majority in a plurality election'), Row(id=30332, text='tactical voting'), Row(id=53957416, text=\"Gibbard's theorem\"), Row(id=39764, text='Chirac'), Row(id=49955, text='Le Pen'), Row(id=147060, text=\"France's presidential election of 2002\"), Row(id=22592845, text='the French presidential election, 2012'), Row(id=2407835, text='Burr dilemma'), Row(id=1133911, text='Condorcet winners'), Row(id=30332, text='bullet voting'), Row(id=30332, text='compromising'), Row(id=30332, text='push-over'), Row(id=30332, text='burying'), Row(id=30332, text='Bullet Voting'), Row(id=30332, text='Compromising'), Row(id=28737250, text='ordinal preferences'), Row(id=30332, text='Voting strategy'), Row(id=1133911, text='Condorcet winner'), Row(id=2111299, text='Condorcet loser'), Row(id=51993810, text='dichotomous preferences'), Row(id=886330, text='strategy-proof'), Row(id=1133911, text='Condorcet criterion'), Row(id=6732187, text='later-no-harm criterion'), Row(id=258957, text='monotonicity criterion'), Row(id=26898094, text='von Neumann–Morgenstern utility theorem'), Row(id=30332, text='rational voter model'), Row(id=13737627, text='Myerson'), Row(id=45479, text='expected utility'), Row(id=2111299, text='Condorcet loser'), Row(id=44446, text='here'), Row(id=11924, text='game theory'), Row(id=20169599, text='Unrestricted domain'), Row(id=20169520, text='Non-dictatorship'), Row(id=45468, text='Pareto efficiency'), Row(id=89425, text=\"Arrow's impossibility theorem\"), Row(id=1725354, text='Majority criterion'), Row(id=258957, text='Monotonicity criterion'), Row(id=1792861, text='Consistency criterion'), Row(id=1133956, text='Participation criterion'), Row(id=1133911, text='Condorcet criterion'), Row(id=44446, text='pairwise comparison'), Row(id=2111299, text='Condorcet loser criterion'), Row(id=259105, text='Independence of irrelevant alternatives'), Row(id=6750188, text='Independence of clones criterion'), Row(id=2416710, text='Reversal symmetry'), Row(id=20169599, text='Unrestricted domain'), Row(id=20169520, text='Non-dictatorship'), Row(id=45468, text='Pareto efficiency'), Row(id=1725354, text='Majority'), Row(id=258957, text='Monotone'), Row(id=1792861, text='Consistency'), Row(id=1133956, text='Participation'), Row(id=1133911, text='Condorcet'), Row(id=2111299, text='Condorcet loser'), Row(id=259105, text='IIA'), Row(id=6750188, text='Clone independence'), Row(id=2416710, text='Reversal symmetry'), Row(id=17071161, text='Strong Nash equilibrium'), Row(id=89425, text=\"Arrow's impossibility theorem\"), Row(id=1908021, text='mutual majority criterion'), Row(id=1133921, text='Smith criterion'), Row(id=10880, text='plurality'), Row(id=295237, text='disapproval voting'), Row(id=129203, text='recall'), Row(id=10880, text='plurality voting'), Row(id=32217517, text='Majority Judgment'), Row(id=68033962, text='Multiwinner approval voting'), Row(id=68033962, text='Party-approval voting'), Row(id=25908, text='Score Voting'), Row(id=27905391, text='Big Think')])"
            ]
          },
          "metadata": {},
          "execution_count": 78
        }
      ]
    },
    {
      "cell_type": "markdown",
      "source": [
        "#tf,df and other helpers"
      ],
      "metadata": {
        "id": "_H4UmiLSAGA8"
      }
    },
    {
      "cell_type": "code",
      "source": [
        "english_stopwords = frozenset(stopwords.words('english'))\n",
        "corpus_stopwords = [\"category\", \"references\", \"also\", \"external\", \"links\", #TODO: CHECK IF NEED TO ADD\n",
        "                    \"may\", \"first\", \"see\", \"history\", \"people\", \"one\", \"two\", \n",
        "                    \"part\", \"thumb\", \"including\", \"second\", \"following\", \n",
        "                    \"many\", \"however\", \"would\", \"became\"]\n",
        "all_stopwords = english_stopwords.union(corpus_stopwords)\n",
        "RE_WORD = re.compile(r\"\"\"[\\#\\@\\w](['\\-]?\\w){2,24}\"\"\", re.UNICODE)\n",
        "\n",
        "NUM_BUCKETS = 124\n",
        "def token2bucket_id(token):\n",
        "  return int(_hash(token),16) % NUM_BUCKETS\n",
        "\n",
        "# Calc TF\n",
        "# Returns a list of (token, (doc_id, tf)) pairs for each token (word) in the text\n",
        "def word_count(id,text):\n",
        "  ''' Count the frequency of each word in `text` (tf) that is not included in \n",
        "  `all_stopwords` and return entries that will go into our posting lists. \n",
        "  Parameters:\n",
        "  -----------\n",
        "    text: str\n",
        "      Text of one document\n",
        "    id: int\n",
        "      Document id\n",
        "  Returns:\n",
        "  --------\n",
        "    List of tuples\n",
        "      A list of (token, (doc_id, tf)) pairs \n",
        "      for example: [(\"Anarchism\", (12, 5)), ...]\n",
        "  '''\n",
        "  tokens = [token.group() for token in RE_WORD.finditer(text.lower())]\n",
        " \n",
        "  terms = {}\n",
        "  tf = Counter()\n",
        "  for token in tokens:\n",
        "    if token in all_stopwords:\n",
        "      continue\n",
        "    current = tf.get(token, 0)\n",
        "    tf[token] = current + 1\n",
        "    terms[token] = (id,current +1)\n",
        "\n",
        "\n",
        "  return list(terms.items())\n",
        "\n",
        "# Returns a sorted posting list from an unsorted posting list. Sorting by tf of doc id\n",
        "def reduce_word_counts(unsorted_pl):\n",
        "  ''' Returns a sorted posting list by wiki_id.\n",
        "  Parameters:\n",
        "  -----------\n",
        "    unsorted_pl: list of tuples\n",
        "      A list of (wiki_id, tf) tuples \n",
        "  Returns:\n",
        "  --------\n",
        "    list of tuples\n",
        "      A sorted posting list.\n",
        "  '''\n",
        "\n",
        "  return(sorted(unsorted_pl, key = lambda x: x[0]))\n",
        "\n",
        "def calculate_df(postings):\n",
        "  ''' Takes a posting list RDD and calculate the df for each token.\n",
        "  Parameters:\n",
        "  -----------\n",
        "    postings: RDD\n",
        "      An RDD where each element is a (token, posting_list) pair.\n",
        "  Returns:\n",
        "  --------\n",
        "    RDD\n",
        "      An RDD where each element is a (token, df) pair.\n",
        "  '''\n",
        "  # YOUR CODE HERE\n",
        "  return postings.map(lambda x: (x[0],len(x[1]))).partitionBy(16)\n",
        "\n",
        "def partition_postings_and_write(postings):\n",
        "  ''' A function that partitions the posting lists into buckets, writes out \n",
        "  all posting lists in a bucket to disk, and returns the posting locations for \n",
        "  each bucket. Partitioning should be done through the use of `token2bucket` \n",
        "  above. Writing to disk should use the function  `write_a_posting_list`, a \n",
        "  static method implemented in inverted_index_colab.py under the InvertedIndex \n",
        "  class. \n",
        "  Parameters:\n",
        "  -----------\n",
        "    postings: RDD\n",
        "      An RDD where each item is a (w, posting_list) pair.\n",
        "  Returns:\n",
        "  --------\n",
        "    RDD\n",
        "      An RDD where each item is a posting locations dictionary for a bucket. The\n",
        "      posting locations maintain a list for each word of file locations and \n",
        "      offsets its posting list was written to. See `write_a_posting_list` for \n",
        "      more details.\n",
        "  '''\n",
        "  res = defaultdict(list)\n",
        "  output_list = []\n",
        "  bucketed_postings = postings.map(lambda x:(token2bucket_id(x[0]),x)).groupByKey()\n",
        "  for id,content in bucketed_postings.toLocalIterator():\n",
        "    #output_list.append(InvertedIndex.write_a_posting_list((id,content),\"208994616\")) #for gcp ########################################################\n",
        "    output_list.append(InvertedIndex.write_a_posting_list((id,content)))\n",
        "  sc = SparkContext.getOrCreate(SparkConf().setMaster(\"local[*]\"))\n",
        "  return sc.parallelize(output_list,numSlices=16)"
      ],
      "metadata": {
        "id": "LAufaR--XYOQ"
      },
      "execution_count": 67,
      "outputs": []
    },
    {
      "cell_type": "markdown",
      "source": [
        "#building the index"
      ],
      "metadata": {
        "id": "Fi_k6ZuUAikc"
      }
    },
    {
      "cell_type": "code",
      "source": [
        "def build_index_ver1(rdd_data):\n",
        "    word_counts = rdd_data.flatMap(lambda x: word_count(x[0], x[1]))\n",
        "    postings = word_counts.groupByKey().mapValues(reduce_word_counts)\n",
        "\n",
        "    w2df = calculate_df(postings)\n",
        "    w2df_dict = w2df.collectAsMap()\n",
        "    posting_locs_list = partition_postings_and_write(postings).collect()\n",
        "\n",
        "    super_posting_locs = defaultdict(list)\n",
        "    for posting_loc in posting_locs_list:\n",
        "      for k, v in posting_loc.items():\n",
        "        super_posting_locs[k].extend(v)\n",
        "\n",
        "    # Create inverted index instance\n",
        "    inverted = InvertedIndex()\n",
        "    # Adding the posting locations dictionary to the inverted index\n",
        "    inverted.posting_locs = super_posting_locs\n",
        "    # Add the token - df dictionary to the inverted index\n",
        "    inverted.df = w2df_dict\n",
        "    # write the global stats out\n",
        "    inverted.write_index('.', 'index')\n",
        "\n",
        "    return inverted\n",
        "\n",
        "index_body=build_index_ver1(wiki_data_body)\n",
        "# \n",
        "index_title=build_index_ver1(wiki_data_title)\n"
      ],
      "metadata": {
        "id": "7LjMM0TGcSjJ"
      },
      "execution_count": null,
      "outputs": []
    },
    {
      "cell_type": "code",
      "source": [
        "def word_count_anchor(id,list_of_tupels):\n",
        "  ''' Count the frequency of each word in `text` (tf) that is not included in \n",
        "  `all_stopwords` and return entries that will go into our posting lists. \n",
        "  Parameters:\n",
        "  -----------\n",
        "    text: str\n",
        "      Text of one document\n",
        "    id: int\n",
        "      Document id\n",
        "  Returns:\n",
        "  --------\n",
        "    List of tuples\n",
        "      A list of (token, (doc_id, tf)) pairs \n",
        "      for example: [(\"Anarchism\", (12, 5)), ...]\n",
        "  '''\n",
        "  t=flatten_lst([RE_WORD.finditer(text.lower()) for dest_id,text in list_of_tupels])\n",
        "\n",
        "  tokens = [token.group() for token in t]\n",
        "\n",
        "  terms = {}\n",
        "  tf = Counter()\n",
        "  for token in tokens:\n",
        "    if token in all_stopwords:\n",
        "      continue\n",
        "    current = tf.get(token, 0)\n",
        "    tf[token] = current + 1\n",
        "    terms[token] = (id,current +1)\n",
        "\n",
        "\n",
        "  return list(terms.items())\n",
        "\n",
        "def build_index_ver2(rdd_data):\n",
        "    word_counts_body = rdd_data.flatMap(lambda x: word_count_anchor(x[0], x[1]))\n",
        "    postings = word_counts_body.groupByKey().mapValues(reduce_word_counts)\n",
        "\n",
        "    w2df = calculate_df(postings)\n",
        "\n",
        "    w2df_dict = w2df.collectAsMap()\n",
        "    posting_locs_list = partition_postings_and_write(postings).collect()\n",
        "\n",
        "    super_posting_locs = defaultdict(list)\n",
        "    for posting_loc in posting_locs_list:\n",
        "      for k, v in posting_loc.items():\n",
        "        super_posting_locs[k].extend(v)\n",
        "\n",
        "    # Create inverted index instance\n",
        "    inverted = InvertedIndex()\n",
        "    # Adding the posting locations dictionary to the inverted index\n",
        "    inverted.posting_locs = super_posting_locs\n",
        "    # Add the token - df dictionary to the inverted index\n",
        "    inverted.df = w2df_dict\n",
        "    # write the global stats out\n",
        "    inverted.write_index('.', 'index')\n",
        "\n",
        "    return inverted\n",
        "\n",
        "\n",
        "index_anchor=build_index_ver2(wiki_data_anchor)"
      ],
      "metadata": {
        "id": "dCgZEK6zIZD5"
      },
      "execution_count": 82,
      "outputs": []
    },
    {
      "cell_type": "code",
      "metadata": {
        "deletable": false,
        "editable": false,
        "id": "j2_qt2IPkxqz",
        "nbgrader": {
          "cell_type": "code",
          "checksum": "4cb2f6508a6447d5732697ca263194c6",
          "grade": false,
          "grade_id": "cell-2580b6e6179c1c3f",
          "locked": true,
          "schema_version": 3,
          "solution": false,
          "task": false
        }
      },
      "source": [
        "TUPLE_SIZE = 6       \n",
        "TF_MASK = 2 ** 16 - 1 # Masking the 16 low bits of an integer\n",
        "from contextlib import closing\n",
        "\n",
        "def read_posting_list(inverted, w):\n",
        "  with closing(MultiFileReader()) as reader:\n",
        "    locs = inverted.posting_locs[w]\n",
        "\n",
        "    b = reader.read(locs, inverted.df[w] * TUPLE_SIZE)\n",
        "    posting_list = []\n",
        "    for i in range(inverted.df[w]):\n",
        "      doc_id = int.from_bytes(b[i*TUPLE_SIZE:i*TUPLE_SIZE+4], 'big')\n",
        "      tf = int.from_bytes(b[i*TUPLE_SIZE+4:(i+1)*TUPLE_SIZE], 'big')\n",
        "      posting_list.append((doc_id, tf))\n",
        "    return posting_list"
      ],
      "execution_count": 13,
      "outputs": []
    },
    {
      "cell_type": "markdown",
      "source": [
        "#queries actions\n"
      ],
      "metadata": {
        "id": "rGliVCa-AVt8"
      }
    },
    {
      "cell_type": "code",
      "source": [
        "queries=[q for q,d in queries_to_docs_raw.items()]\n",
        "q_tokenes_lst=[q.split() for q in queries]\n",
        "all_terms=[item for sublist in q_tokenes_lst for item in sublist]\n",
        "q_tokenes_dict={i:q for i,q in enumerate(q_tokenes_lst)}\n"
      ],
      "metadata": {
        "id": "JwMfvxFuUPPn"
      },
      "execution_count": 15,
      "outputs": []
    },
    {
      "cell_type": "markdown",
      "source": [
        "#get top n with cosine simularity on the body index"
      ],
      "metadata": {
        "id": "6mWXTFEV_dd9"
      }
    },
    {
      "cell_type": "code",
      "source": [
        "# works\n",
        "def generate_query_tfidf_vector(query_to_search,index):\n",
        "    epsilon = .0000001\n",
        "    total_vocab_size = len(index.df.keys())\n",
        "    Q = np.zeros((total_vocab_size))\n",
        "    term_vector = list(index.df.keys())    \n",
        "    counter = Counter(query_to_search)\n",
        "    for token in np.unique(query_to_search):\n",
        "        if token.lower() in index.df.keys(): #avoid terms that do not appear in the index.               \n",
        "            tf = counter[token.lower()]/len(query_to_search) # term frequency divded by the length of the query\n",
        "            df = index.df[token.lower()]            \n",
        "            idf = math.log((len(DL))/(df+epsilon),10) #smoothing\n",
        "            \n",
        "            try:\n",
        "                ind = term_vector.index(token)\n",
        "                Q[ind] = tf*idf\n",
        "                     \n",
        "            except:\n",
        "                \n",
        "                pass\n",
        "    return Q\n",
        "\n",
        "# works\n",
        "def get_candidate_documents_and_scores(query_to_search,index,words,pls):\n",
        "    \"\"\"\n",
        "    Generate a dictionary representing a pool of candidate documents for a given query. This function will go through every token in query_to_search\n",
        "    and fetch the corresponding information (e.g., term frequency, document frequency, etc.') needed to calculate TF-IDF from the posting list.\n",
        "    Then it will populate the dictionary 'candidates.'\n",
        "    For calculation of IDF, use log with base 10.\n",
        "    tf will be normalized based on the length of the document.\n",
        "    \n",
        "    Parameters:\n",
        "    -----------\n",
        "    query_to_search: list of tokens (str). This list will be preprocessed in advance (e.g., lower case, filtering stopwords, etc.'). \n",
        "                     Example: 'Hello, I love information retrival' --->  ['hello','love','information','retrieval']\n",
        "\n",
        "    index:           inverted index loaded from the corresponding files.\n",
        "\n",
        "    words,pls: generator for working with posting.\n",
        "    Returns:\n",
        "    -----------\n",
        "    dictionary of candidates. In the following format:\n",
        "                                                               key: pair (doc_id,term)\n",
        "                                                               value: tfidf score. \n",
        "    \"\"\"\n",
        "    candidates = {}\n",
        "    N = len(DL)   \n",
        "    \n",
        "    for term in np.unique(query_to_search): \n",
        "        if term.lower() in words:            \n",
        "            list_of_doc = pls[words.index(term.lower())]                       \n",
        "            normlized_tfidf = [(doc_id,(freq/DL[doc_id])*math.log(N/index.df[term.lower()],10)) for doc_id, freq in list_of_doc]           \n",
        "                        \n",
        "            for doc_id, tfidf in normlized_tfidf:\n",
        "                candidates[(doc_id,term.lower())] = candidates.get((doc_id,term.lower()), 0) + tfidf               \n",
        "     \n",
        "    return candidates\n",
        "\n",
        "# works\n",
        "def generate_document_tfidf_matrix(query_to_search,index,words,pls):\n",
        "    \"\"\"\n",
        "    Generate a DataFrame `D` of tfidf scores for a given query. \n",
        "    Rows will be the documents candidates for a given query\n",
        "    Columns will be the unique terms in the index.\n",
        "    The value for a given document and term will be its tfidf score.\n",
        "    \n",
        "    Parameters:\n",
        "    -----------\n",
        "    query_to_search: list of tokens (str). This list will be preprocessed in advance (e.g., lower case, filtering stopwords, etc.'). \n",
        "                     Example: 'Hello, I love information retrival' --->  ['hello','love','information','retrieval']\n",
        "\n",
        "    index:           inverted index loaded from the corresponding files.\n",
        "\n",
        "    words,pls: generator for working with posting.\n",
        "    Returns:\n",
        "    -----------\n",
        "    DataFrame of tfidf scores.\n",
        "    \"\"\"\n",
        "    \n",
        "    total_vocab_size = len(index.df)\n",
        "    candidates_scores = get_candidate_documents_and_scores(query_to_search,index,words,pls) #We do not need to utilize all document. Only the docuemnts which have corrspoinding terms with the query.\n",
        "    unique_candidates = np.unique([doc_id for doc_id, freq in candidates_scores.keys()])\n",
        "    \n",
        "    D = np.zeros((len(unique_candidates), total_vocab_size))\n",
        "    D = pd.DataFrame(D)\n",
        "    D.index = unique_candidates\n",
        "    D.columns = index.df.keys()\n",
        "\n",
        "    for key in candidates_scores:\n",
        "        tfidf = candidates_scores[key]\n",
        "        doc_id, term = key    \n",
        "        D.loc[doc_id][term] = tfidf\n",
        "\n",
        "    return D\n",
        "\n",
        "from numpy import dot\n",
        "from numpy.linalg import norm\n",
        "def cosine_similarity(D,Q):\n",
        "    \"\"\"\n",
        "    Calculate the cosine similarity for each candidate document in D and a given query (e.g., Q).\n",
        "    Generate a dictionary of cosine similarity scores \n",
        "    key: doc_id\n",
        "    value: cosine similarity score\n",
        "    \n",
        "    Parameters:\n",
        "    -----------\n",
        "    D: DataFrame of tfidf scores.\n",
        "\n",
        "    Q: vectorized query with tfidf scores\n",
        "    \n",
        "    Returns:\n",
        "    -----------\n",
        "    dictionary of cosine similarity score as follows:\n",
        "                                                                key: document id (e.g., doc_id)\n",
        "                                                                value: cosine similarty score.\n",
        "    \"\"\"\n",
        "\n",
        "    # YOUR CODE HERE\n",
        "    # d ={}\n",
        "    # mat = D.to_numpy()\n",
        "   \n",
        "\n",
        "    # for i in range(0,len(mat)):\n",
        "    #   x1 = mat[i] / np.linalg.norm(mat[i])\n",
        "    #   x2 = Q / np.linalg.norm(Q)\n",
        "\n",
        "    #   val = np.matmul(x1, x2.T)\n",
        "    \n",
        "    #   d[i] = val\n",
        "\n",
        "\n",
        "    # return d\n",
        "    output = {}\n",
        "    for index, row in D.iterrows():\n",
        "      cos_sim = dot(row, Q)/(norm(row)*norm(Q))\n",
        "      \n",
        "      output[index] = cos_sim\n",
        "    return output\n",
        "\n",
        "\n",
        "\n",
        "def get_top_n(sim_dict,N=3):\n",
        "    \"\"\" \n",
        "    Sort and return the highest N documents according to the cosine similarity score.\n",
        "    Generate a dictionary of cosine similarity scores \n",
        "   \n",
        "    Parameters:\n",
        "    -----------\n",
        "    sim_dict: a dictionary of similarity score as follows:\n",
        "                                                                key: document id (e.g., doc_id)\n",
        "                                                                value: similarity score. We keep up to 5 digits after the decimal point. (e.g., round(score,5))\n",
        "\n",
        "    N: Integer (how many documents to retrieve). By default N = 3\n",
        "    \n",
        "    Returns:\n",
        "    -----------\n",
        "    a ranked list of pairs (doc_id, score) in the length of N.\n",
        "    \"\"\"\n",
        "    \n",
        "    return sorted([(doc_id, builtins.round(score,5)) for doc_id, score in sim_dict.items()], key = lambda x: x[1],reverse=True)[:N]\n",
        "\n",
        "def get_topN_score_for_queries(queries_to_search,index,N=3):\n",
        "    \"\"\" \n",
        "    Generate a dictionary that gathers for every query its topN score.\n",
        "    \n",
        "    Parameters:\n",
        "    -----------\n",
        "    queries_to_search: a dictionary of queries as follows: \n",
        "                                                        key: query_id\n",
        "                                                        value: list of tokens.\n",
        "    index:           inverted index loaded from the corresponding files.    \n",
        "    N: Integer. How many documents to retrieve. This argument is passed to the topN function. By default N = 3, for the topN function. \n",
        "    \n",
        "    Returns:\n",
        "    -----------\n",
        "    return: a dictionary of queries and topN pairs as follows:\n",
        "                                                        key: query_id\n",
        "                                                        value: list of pairs in the following format:(doc_id, score). \n",
        "    \"\"\"\n",
        "    # YOUR CODE HERE\n",
        "    d={}\n",
        "    words,pls=zip(*index.posting_lists_iter())\n",
        "    for q_id,q_terms in queries_to_search.items():\n",
        "      Q=generate_query_tfidf_vector(q_terms,index)\n",
        "      D=generate_document_tfidf_matrix(q_terms,index,words,pls)\n",
        "      cosim_dict=cosine_similarity(D,Q)\n",
        "\n",
        "        \n",
        "      d[q_id]=get_top_n(cosim_dict,N)\n",
        "\n",
        "    \n",
        "    return d\n"
      ],
      "metadata": {
        "id": "mVURFN9fPRF6"
      },
      "execution_count": 17,
      "outputs": []
    },
    {
      "cell_type": "code",
      "source": [
        "# words-all intexed words\n",
        "# pls- list of lists,inside list i is the posting list of words[i]\n",
        "# words,pls=zip(*inverted.posting_lists_iter())\n",
        "DL_body=wiki_data_body.map(lambda x:(x[1],len(x[0].split()))).collectAsMap()\n",
        "#DL_anchor=wiki_data_anchor.map(lambda x:(x[1],len(x[0].split()))).collectAsMap()\n",
        "cosine_sim_result_body=get_topN_score_for_queries({i:[t.lower() for t in q_lst] for i,q_lst in q_tokenes_dict.items()},index_body,DL_body)\n",
        "#cosine_sim_result_anchor=get_topN_score_for_queries({i:[t.lower() for t in q_lst] for i,q_lst in q_tokenes_dict.items()},index_body,DL_anchor)\n",
        "\n"
      ],
      "metadata": {
        "id": "cwhEBGgVLwG8"
      },
      "execution_count": null,
      "outputs": []
    },
    {
      "cell_type": "markdown",
      "source": [
        "# binary ranking using the title of articles <font color='yellow'>TODO</font> \n"
      ],
      "metadata": {
        "id": "-_yrc27ACNwL"
      }
    },
    {
      "cell_type": "code",
      "source": [
        ""
      ],
      "metadata": {
        "id": "79b64OCWDt92"
      },
      "execution_count": null,
      "outputs": []
    },
    {
      "cell_type": "markdown",
      "source": [
        "# binary ranking using the anchor text <font color='yellow'>TODO</font> "
      ],
      "metadata": {
        "id": "cFeLw4RXDVUi"
      }
    },
    {
      "cell_type": "code",
      "source": [
        "def binary_ranking_for_anchor_text(query,index,words,pls):\n",
        "  matches = Counter()\n",
        "  for term in np.unique(query): \n",
        "        if term.lower() in words:            \n",
        "            list_of_doc = pls[words.index(term.lower())]    \n",
        "            for doc_id, freq in list_of_doc:\n",
        "                matches[doc_id] = matches.get(doc_id, 0) + 1\n",
        "  return [sorted(matches.items(),key=lambda x:x[1])]\n"
      ],
      "metadata": {
        "id": "d3mpgXUADtBZ"
      },
      "execution_count": 87,
      "outputs": []
    },
    {
      "cell_type": "code",
      "source": [
        "binary_ranking_for_anchor_text(\"\",index,words,pls)"
      ],
      "metadata": {
        "id": "JU6jP_1gYkJv"
      },
      "execution_count": null,
      "outputs": []
    },
    {
      "cell_type": "markdown",
      "source": [
        "#getting top n with bm25 <font color='yellow'>TODO</font> "
      ],
      "metadata": {
        "id": "opkGx9riBykd"
      }
    },
    {
      "cell_type": "code",
      "source": [
        ""
      ],
      "metadata": {
        "id": "FFc_QYAHCJAP"
      },
      "execution_count": null,
      "outputs": []
    },
    {
      "cell_type": "markdown",
      "source": [
        "# ranking by PageRank <font color='yellow'>TODO</font> "
      ],
      "metadata": {
        "id": "oW8aTbO3DdNz"
      }
    },
    {
      "cell_type": "code",
      "source": [
        ""
      ],
      "metadata": {
        "id": "QBn8jCxFDl5g"
      },
      "execution_count": null,
      "outputs": []
    },
    {
      "cell_type": "markdown",
      "source": [
        "# ranking by article page views <font color='yellow'>TODO</font> "
      ],
      "metadata": {
        "id": "0H9HtYRnD1l5"
      }
    },
    {
      "cell_type": "markdown",
      "source": [
        "# Estimate\n",
        "\n",
        "\n"
      ],
      "metadata": {
        "id": "bd__I0S85M5p"
      }
    },
    {
      "cell_type": "code",
      "source": [
        "#@title Default title text\n",
        "def intersection(l1,l2):      \n",
        "    \"\"\"\n",
        "    This function perform an intersection between two lists.\n",
        "\n",
        "    Parameters\n",
        "    ----------\n",
        "    l1: list of documents. Each element is a doc_id.\n",
        "    l2: list of documents. Each element is a doc_id.\n",
        "\n",
        "    Returns:\n",
        "    ----------\n",
        "    list with the intersection (without duplicates) of l1 and l2\n",
        "    \"\"\"\n",
        "    return list(builtins.set(l1)&builtins.set(l2))\n",
        "def precision_at_k(true_list,predicted_list,k=40):    \n",
        "    \"\"\"\n",
        "    This function calculate the precision@k metric.\n",
        "\n",
        "    Parameters\n",
        "    -----------\n",
        "    true_list: list of relevant documents. Each element is a doc_id.\n",
        "    predicted_list: sorted list of documents predicted as relevant. Each element is a doc_id. Sorted is performed by relevance score\n",
        "    k: integer, a number to slice the length of the predicted_list\n",
        "    \n",
        "    Returns:\n",
        "    -----------\n",
        "    float, precision@k with 3 digits after the decimal point.\n",
        "    \"\"\"      \n",
        "    # YOUR CODE HERE\n",
        "\n",
        "    up=len(intersection(predicted_list[:k],true_list))\n",
        "    down=k\n",
        "    return builtins.round(up/down,3)\n",
        "\n",
        "def average_precision(true_list,predicted_list,k=40):\n",
        "    \"\"\"\n",
        "    This function calculate the average_precision@k metric.(i.e., precision in every recall point).     \n",
        "\n",
        "    Parameters\n",
        "    -----------\n",
        "    true_list: list of relevant documents. Each element is a doc_id.\n",
        "    predicted_list: sorted list of documents predicted as relevant. Each element is a doc_id. Sorted is performed by relevance score\n",
        "    k: integer, a number to slice the length of the predicted_list\n",
        "    \n",
        "    Returns:\n",
        "    -----------\n",
        "    float, average precision@k with 3 digits after the decimal point.\n",
        "    \"\"\"\n",
        "    # YOUR CODE HERE\n",
        "    # for each relevant doc that in pl and in tl activate p@k and sum them,after \n",
        "    #devide by number of relevant\n",
        "    sum=0\n",
        "    rel=len(intersection(predicted_list[:k],true_list))\n",
        "    if rel==0:\n",
        "      return 0\n",
        "    for i_pl,doc in enumerate(predicted_list[:k]):\n",
        "      if doc in true_list:\n",
        "        sum+=precision_at_k(true_list,predicted_list[:k],i_pl+1)\n",
        "    return builtins.round(sum/rel,3)\n",
        "\n",
        "def mean_ap(true_dict,predicted_dict,k=40):\n",
        "  sum=0\n",
        "  for q_id,true_lst in true_dict.items():\n",
        "    sum+=average_precision(true_lst,predicted_dict[q_id])\n",
        "  return sum/len(true_dict)"
      ],
      "metadata": {
        "cellView": "code",
        "id": "RxpG4Yhgub-M"
      },
      "execution_count": 41,
      "outputs": []
    },
    {
      "cell_type": "code",
      "source": [
        "qid_to_true_docs_dict={i:d[1] for i,d in enumerate(queries_to_docs_raw.items())}\n",
        "d=get_topN_score_for_queries({i:[t.lower() for t in q_lst] for i,q_lst in q_tokenes_dict.items()},inverted,40)\n",
        "qid_to_returned_docs_dict={i:t[0] for i,t in d.items()}\n",
        "mean_ap(qid_to_true_docs_dict,qid_to_returned_docs_dict)\n",
        "\n",
        "# average_precision(q_tokenes_dict[0],cosine_sim_result[0])"
      ],
      "metadata": {
        "id": "H6A6a4yx6vgO",
        "outputId": "8cc11160-0769-467a-9854-0f48e9c7dbca",
        "colab": {
          "base_uri": "https://localhost:8080/"
        }
      },
      "execution_count": 42,
      "outputs": [
        {
          "output_type": "execute_result",
          "data": {
            "text/plain": [
              "0.4666666666666667"
            ]
          },
          "metadata": {},
          "execution_count": 42
        }
      ]
    }
  ]
}