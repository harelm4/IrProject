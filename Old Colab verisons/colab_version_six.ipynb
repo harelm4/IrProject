{
  "nbformat": 4,
  "nbformat_minor": 0,
  "metadata": {
    "colab": {
      "name": "after pv.ipynb",
      "provenance": [],
      "collapsed_sections": [
        "udVmmcNf0c1X",
        "CJlA9PHUI8Ai",
        "_H4UmiLSAGA8",
        "rLlrnBimwmnf",
        "-_yrc27ACNwL",
        "oW8aTbO3DdNz",
        "0H9HtYRnD1l5",
        "opkGx9riBykd",
        "KXOLuD8e4sw9",
        "bd__I0S85M5p",
        "u71GgoDY1cKp"
      ]
    },
    "kernelspec": {
      "name": "python3",
      "display_name": "Python 3"
    },
    "language_info": {
      "name": "python"
    }
  },
  "cells": [
    {
      "cell_type": "markdown",
      "source": [
        "#Imports"
      ],
      "metadata": {
        "id": "udVmmcNf0c1X"
      }
    },
    {
      "cell_type": "code",
      "source": [
        "import sys\n",
        "from collections import Counter, OrderedDict\n",
        "import itertools\n",
        "from itertools import islice, count, groupby\n",
        "import pandas as pd\n",
        "import os\n",
        "import re\n",
        "from operator import itemgetter\n",
        "import nltk\n",
        "from nltk.stem.porter import *\n",
        "from nltk.corpus import stopwords\n",
        "from time import time\n",
        "from timeit import timeit\n",
        "from pathlib import Path\n",
        "import pickle\n",
        "import pandas as pd\n",
        "import numpy as np\n",
        "from google.cloud import storage\n",
        "import math\n",
        "nltk.download('stopwords')\n",
        "import builtins\n",
        "from numpy import dot\n",
        "from numpy.linalg import norm\n",
        "\n",
        "import numpy as np\n",
        "import pandas as pd\n",
        "%load_ext google.colab.data_table\n",
        "import bz2\n",
        "from functools import partial\n",
        "from collections import Counter, OrderedDict\n",
        "import pickle\n",
        "import heapq\n",
        "from itertools import islice, count, groupby\n",
        "from xml.etree import ElementTree\n",
        "import codecs\n",
        "import csv\n",
        "import os\n",
        "import re\n",
        "from operator import itemgetter\n",
        "import nltk\n",
        "from nltk.stem.porter import *\n",
        "from nltk.corpus import stopwords\n",
        "import matplotlib.pyplot as plt\n",
        "%matplotlib inline\n",
        "from pathlib import Path\n",
        "import itertools\n",
        "from time import time\n",
        "import hashlib\n",
        "def _hash(s):\n",
        "    return hashlib.blake2b(bytes(s, encoding='utf8'), digest_size=5).hexdigest()\n",
        "\n",
        "\n"
      ],
      "metadata": {
        "id": "Zmg92hymzjtI",
        "colab": {
          "base_uri": "https://localhost:8080/"
        },
        "outputId": "8a98f542-7eed-442b-a764-057accf0d09f"
      },
      "execution_count": 11,
      "outputs": [
        {
          "output_type": "stream",
          "name": "stdout",
          "text": [
            "[nltk_data] Downloading package stopwords to /root/nltk_data...\n",
            "[nltk_data]   Package stopwords is already up-to-date!\n",
            "The google.colab.data_table extension is already loaded. To reload it, use:\n",
            "  %reload_ext google.colab.data_table\n"
          ]
        }
      ]
    },
    {
      "cell_type": "markdown",
      "source": [
        "#**Inverted Index and writer/reader**"
      ],
      "metadata": {
        "id": "CJlA9PHUI8Ai"
      }
    },
    {
      "cell_type": "code",
      "source": [
        "import sys\n",
        "from collections import Counter, OrderedDict, defaultdict\n",
        "import itertools\n",
        "from itertools import islice, count, groupby\n",
        "import os\n",
        "import re\n",
        "from operator import itemgetter\n",
        "from pathlib import Path\n",
        "import pickle\n",
        "from contextlib import closing\n",
        "\n",
        "BLOCK_SIZE = 1999998\n",
        "\n",
        "class MultiFileWriter:\n",
        "    \"\"\" Sequential binary writer to multiple files of up to BLOCK_SIZE each. \"\"\"\n",
        "    def __init__(self, base_dir, name):\n",
        "        self._base_dir = Path(base_dir)\n",
        "        self._name = name\n",
        "        self._file_gen = (open(self._base_dir / f'{name}_{i:03}.bin', 'wb') \n",
        "                          for i in itertools.count())\n",
        "        self._f = next(self._file_gen)\n",
        "    \n",
        "    def write(self, b):\n",
        "      locs = []\n",
        "      while len(b) > 0:\n",
        "        pos = self._f.tell()\n",
        "        remaining = BLOCK_SIZE - pos\n",
        "        # if the current file is full, close and open a new one.\n",
        "        if remaining == 0:  \n",
        "          self._f.close()\n",
        "          self._f = next(self._file_gen)\n",
        "          pos, remaining = 0, BLOCK_SIZE\n",
        "        self._f.write(b[:remaining])\n",
        "        locs.append((self._f.name, pos))\n",
        "        b = b[remaining:]\n",
        "      return locs\n",
        "\n",
        "    def close(self):\n",
        "      self._f.close()\n",
        "\n",
        "class MultiFileReader:\n",
        "  \"\"\" Sequential binary reader of multiple files of up to BLOCK_SIZE each. \"\"\"\n",
        "  def __init__(self):\n",
        "    self._open_files = {}\n",
        "\n",
        "  def read(self, locs, n_bytes):\n",
        "    b = []\n",
        "    for f_name, offset in locs:\n",
        "      if f_name not in self._open_files:\n",
        "        self._open_files[f_name] = open(f_name, 'rb')\n",
        "      f = self._open_files[f_name]\n",
        "      f.seek(offset)\n",
        "      n_read = builtins.min(n_bytes, BLOCK_SIZE - offset)\n",
        "      b.append(f.read(n_read))\n",
        "      n_bytes -= n_read\n",
        "    return b''.join(b)\n",
        "  \n",
        "  def close(self):\n",
        "    for f in self._open_files.values():\n",
        "      f.close()\n",
        "\n",
        "  def __exit__(self, exc_type, exc_value, traceback):\n",
        "    self.close()\n",
        "    return False\n",
        "\n",
        "TUPLE_SIZE = 6       # We're going to pack the doc_id and tf values in this \n",
        "                     # many bytes.\n",
        "TF_MASK = 2 ** 16 - 1 # Masking the 16 low bits of an integer\n",
        "\n",
        "class InvertedIndex:  \n",
        "  def __init__(self, docs={}):\n",
        "    \"\"\" Initializes the inverted index and add documents to it (if provided).\n",
        "    Parameters:\n",
        "    -----------\n",
        "      docs: dict mapping doc_id to list of tokens\n",
        "    \"\"\"\n",
        "    # stores document frequency per term\n",
        "    self.df = Counter()\n",
        "    # stores total frequency per term\n",
        "    self.term_total = Counter()\n",
        "    # stores posting list per term while building the index (internally), \n",
        "    # otherwise too big to store in memory.\n",
        "    self._posting_list = defaultdict(list)\n",
        "    # mapping a term to posting file locations, which is a list of \n",
        "    # (file_name, offset) pairs. Since posting lists are big we are going to\n",
        "    # write them to disk and just save their location in this list. We are \n",
        "    # using the MultiFileWriter helper class to write fixed-size files and store\n",
        "    # for each term/posting list its list of locations. The offset represents \n",
        "    # the number of bytes from the beginning of the file where the posting list\n",
        "    # starts. \n",
        "    self.posting_locs = defaultdict(list)\n",
        "\n",
        "\n",
        "    \n",
        "    for doc_id, tokens in docs.items():\n",
        "      self.add_doc(doc_id, tokens)\n",
        "\n",
        "  def add_doc(self, doc_id, tokens):\n",
        "    \"\"\" Adds a document to the index with a given `doc_id` and tokens. It counts\n",
        "        the tf of tokens, then update the index (in memory, no storage \n",
        "        side-effects).\n",
        "    \"\"\"\n",
        "    w2cnt = Counter(tokens)\n",
        "    self.term_total.update(w2cnt)\n",
        "    for w, cnt in w2cnt.items():\n",
        "      self.df[w] = self.df.get(w, 0) + 1\n",
        "      self._posting_list[w].append((doc_id, cnt))\n",
        "\n",
        "  def write_index(self, base_dir, name):\n",
        "    \"\"\" Write the in-memory index to disk. Results in the file: \n",
        "        (1) `name`.pkl containing the global term stats (e.g. df).\n",
        "    \"\"\"\n",
        "    self._write_globals(base_dir, name)\n",
        "\n",
        "  def _write_globals(self, base_dir, name):\n",
        "    with open(Path(base_dir) / f'{name}.pkl', 'wb') as f:\n",
        "      pickle.dump(self, f)\n",
        "\n",
        "  def __getstate__(self):\n",
        "    \"\"\" Modify how the object is pickled by removing the internal posting lists\n",
        "        from the object's state dictionary. \n",
        "    \"\"\"\n",
        "    state = self.__dict__.copy()\n",
        "    del state['_posting_list']\n",
        "    return state\n",
        "\n",
        "  def posting_lists_iter(self):\n",
        "    \"\"\" A generator that reads one posting list from disk and yields \n",
        "        a (word:str, [(doc_id:int, tf:int), ...]) tuple.\n",
        "    \"\"\"\n",
        "    with closing(MultiFileReader()) as reader:\n",
        "      for w, locs in self.posting_locs.items():\n",
        "        b = reader.read(locs, self.df[w] * TUPLE_SIZE)\n",
        "        posting_list = []\n",
        "        for i in range(self.df[w]):\n",
        "          doc_id = int.from_bytes(b[i*TUPLE_SIZE:i*TUPLE_SIZE+4], 'big')\n",
        "          tf = int.from_bytes(b[i*TUPLE_SIZE+4:(i+1)*TUPLE_SIZE], 'big')\n",
        "          posting_list.append((doc_id, tf))\n",
        "        yield w, posting_list\n",
        "\n",
        "\n",
        "  @staticmethod\n",
        "  def read_index(base_dir, name):\n",
        "    with open(Path(base_dir) / f'{name}.pkl', 'rb') as f:\n",
        "      return pickle.load(f)\n",
        "\n",
        "  @staticmethod\n",
        "  def delete_index(base_dir, name):\n",
        "    path_globals = Path(base_dir) / f'{name}.pkl'\n",
        "    path_globals.unlink()\n",
        "    for p in Path(base_dir).rglob(f'{name}_*.bin'):\n",
        "      p.unlink()\n",
        "\n",
        "\n",
        "  @staticmethod\n",
        "  def write_a_posting_list(b_w_pl,location):\n",
        "    ''' Takes a (bucket_id, [(w0, posting_list_0), (w1, posting_list_1), ...]) \n",
        "    and writes it out to disk as files named {bucket_id}_XXX.bin under the \n",
        "    current directory. Returns a posting locations dictionary that maps each \n",
        "    word to the list of files and offsets that contain its posting list.\n",
        "    Parameters:\n",
        "    -----------\n",
        "      b_w_pl: tuple\n",
        "        Containing a bucket id and all (word, posting list) pairs in that bucket\n",
        "        (bucket_id, [(w0, posting_list_0), (w1, posting_list_1), ...])\n",
        "    Return:\n",
        "      posting_locs: dict\n",
        "        Posting locations for each of the words written out in this bucket.\n",
        "    '''\n",
        "    posting_locs = defaultdict(list)\n",
        "    bucket, list_w_pl = b_w_pl\n",
        "\n",
        "    with closing(MultiFileWriter(location, bucket)) as writer:\n",
        "      for w, pl in list_w_pl: \n",
        "        # convert to bytes\n",
        "        b = b''.join([(doc_id << 16 | (tf & TF_MASK)).to_bytes(TUPLE_SIZE, 'big')\n",
        "                      for doc_id, tf in pl])\n",
        "        # write to file(s)\n",
        "        locs = writer.write(b)\n",
        "      # save file locations to index\n",
        "        posting_locs[w].extend(locs)\n",
        "    return posting_locs\n",
        "\n",
        "def find_postings(terms,index):\n",
        "    res={}\n",
        "    with closing(MultiFileReader()) as reader:\n",
        "        for w, locs in index.posting_locs.items():\n",
        "          if(res.keys()==terms):\n",
        "          #if (terms in res.keys()):\n",
        "            break\n",
        "          if(w not in terms):\n",
        "            continue\n",
        "          else:\n",
        "            b = reader.read(locs, index.df[w] * TUPLE_SIZE)\n",
        "            posting_list = []\n",
        "            for i in range(index.df[w]):\n",
        "              doc_id = int.from_bytes(b[i*TUPLE_SIZE:i*TUPLE_SIZE+4], 'big')\n",
        "              tf = int.from_bytes(b[i*TUPLE_SIZE+4:(i+1)*TUPLE_SIZE], 'big')\n",
        "              posting_list.append((doc_id, tf))\n",
        "            res[w]=posting_list\n",
        "\n",
        "    return res\n",
        "            "
      ],
      "metadata": {
        "id": "LpAlNcW2wGwv"
      },
      "execution_count": 12,
      "outputs": []
    },
    {
      "cell_type": "markdown",
      "source": [
        "# pyspark crap and getting data from the bucket"
      ],
      "metadata": {
        "id": "aTO0Fd5I-OpC"
      }
    },
    {
      "cell_type": "code",
      "source": [
        "!pip install -q pyspark\n",
        "!pip install -U -q PyDrive\n",
        "!apt-get update\n",
        "!apt install openjdk-8-jdk-headless -qq\n",
        "!pip install -q graphframes\n",
        "import os\n",
        "os.environ[\"JAVA_HOME\"] = \"/usr/lib/jvm/java-8-openjdk-amd64\"\n",
        "graphframes_jar = 'https://repos.spark-packages.org/graphframes/graphframes/0.8.2-spark3.2-s_2.12/graphframes-0.8.2-spark3.2-s_2.12.jar'\n",
        "spark_jars = '/usr/local/lib/python3.7/dist-packages/pyspark/jars'\n",
        "!wget -N -P $spark_jars $graphframes_jar\n",
        "import pyspark\n",
        "from pyspark.sql import *\n",
        "from pyspark.sql.functions import *\n",
        "from pyspark import SparkContext, SparkConf\n",
        "from pyspark.sql import SQLContext\n",
        "from pyspark.ml.feature import Tokenizer, RegexTokenizer\n",
        "from graphframes import *\n"
      ],
      "metadata": {
        "id": "fWXXi_uK0E4P",
        "outputId": "7c5cb647-56ec-4f03-f60c-c33d07a72cd8",
        "colab": {
          "base_uri": "https://localhost:8080/"
        }
      },
      "execution_count": 13,
      "outputs": [
        {
          "output_type": "stream",
          "name": "stdout",
          "text": [
            "\r0% [Working]\r            \rHit:1 https://cloud.r-project.org/bin/linux/ubuntu bionic-cran40/ InRelease\n",
            "Ign:2 https://developer.download.nvidia.com/compute/cuda/repos/ubuntu1804/x86_64  InRelease\n",
            "Ign:3 https://developer.download.nvidia.com/compute/machine-learning/repos/ubuntu1804/x86_64  InRelease\n",
            "Hit:4 https://developer.download.nvidia.com/compute/cuda/repos/ubuntu1804/x86_64  Release\n",
            "Hit:5 https://developer.download.nvidia.com/compute/machine-learning/repos/ubuntu1804/x86_64  Release\n",
            "Hit:6 http://security.ubuntu.com/ubuntu bionic-security InRelease\n",
            "Hit:7 http://archive.ubuntu.com/ubuntu bionic InRelease\n",
            "Hit:8 http://ppa.launchpad.net/c2d4u.team/c2d4u4.0+/ubuntu bionic InRelease\n",
            "Hit:10 http://archive.ubuntu.com/ubuntu bionic-updates InRelease\n",
            "Hit:12 http://archive.ubuntu.com/ubuntu bionic-backports InRelease\n",
            "Hit:13 http://ppa.launchpad.net/cran/libgit2/ubuntu bionic InRelease\n",
            "Hit:14 http://ppa.launchpad.net/deadsnakes/ppa/ubuntu bionic InRelease\n",
            "Hit:15 http://ppa.launchpad.net/graphics-drivers/ppa/ubuntu bionic InRelease\n",
            "Reading package lists... Done\n",
            "openjdk-8-jdk-headless is already the newest version (8u312-b07-0ubuntu1~18.04).\n",
            "0 upgraded, 0 newly installed, 0 to remove and 59 not upgraded.\n",
            "--2022-01-07 13:36:14--  https://repos.spark-packages.org/graphframes/graphframes/0.8.2-spark3.2-s_2.12/graphframes-0.8.2-spark3.2-s_2.12.jar\n",
            "Resolving repos.spark-packages.org (repos.spark-packages.org)... 13.35.162.99, 13.35.162.96, 13.35.162.69, ...\n",
            "Connecting to repos.spark-packages.org (repos.spark-packages.org)|13.35.162.99|:443... connected.\n",
            "HTTP request sent, awaiting response... 304 Not Modified\n",
            "File ‘/usr/local/lib/python3.7/dist-packages/pyspark/jars/graphframes-0.8.2-spark3.2-s_2.12.jar’ not modified on server. Omitting download.\n",
            "\n"
          ]
        }
      ]
    },
    {
      "cell_type": "code",
      "source": [
        "# Initializing spark context\n",
        "# create a spark context and session\n",
        "conf = SparkConf().set(\"spark.ui.port\", \"4050\")\n",
        "sc = SparkContext.getOrCreate(conf=conf)\n",
        "sc.addPyFile(str(Path(spark_jars) / Path(graphframes_jar).name))\n",
        "spark = SparkSession.builder.getOrCreate()"
      ],
      "metadata": {
        "id": "QmDBuCAj-MHY"
      },
      "execution_count": 14,
      "outputs": []
    },
    {
      "cell_type": "markdown",
      "source": [
        "Copying Wikidata"
      ],
      "metadata": {
        "id": "mo2yEIOX8u95"
      }
    },
    {
      "cell_type": "code",
      "source": [
        "# Authenticate your user\n",
        "# The authentication should be done with the email connected to your GCP account\n",
        "from google.colab import auth\n",
        "auth.authenticate_user()"
      ],
      "metadata": {
        "id": "-HA-zidH8yZ5"
      },
      "execution_count": 15,
      "outputs": []
    },
    {
      "cell_type": "code",
      "source": [
        "# Copy one wikidumps files \n",
        "import os\n",
        "from pathlib import Path\n",
        "from google.colab import auth\n",
        "\n",
        "project_id = 'core-period-321814'\n",
        "!gcloud config set project {project_id}\n",
        "\n",
        "data_bucket_name = 'wikidata_preprocessed'\n",
        "try:\n",
        "    if os.environ[\"wikidata_preprocessed\"] is not None:\n",
        "        pass  \n",
        "except:\n",
        "      !mkdir wikidumps\n",
        "      !gsutil cp gs://{data_bucket_name}/multistream1_preprocessed.parquet \"wikidumps/\" \n"
      ],
      "metadata": {
        "id": "tSEWv75R8zOz",
        "colab": {
          "base_uri": "https://localhost:8080/"
        },
        "outputId": "7a1717c8-ab39-4775-81b8-20d8ae463297"
      },
      "execution_count": 16,
      "outputs": [
        {
          "output_type": "stream",
          "name": "stdout",
          "text": [
            "Updated property [core/project].\n",
            "\u001b[1;33mWARNING:\u001b[0m You do not appear to have access to project [core-period-321814] or it does not exist.\n",
            "mkdir: cannot create directory ‘wikidumps’: File exists\n",
            "Copying gs://wikidata_preprocessed/multistream1_preprocessed.parquet...\n",
            "/ [1 files][316.7 MiB/316.7 MiB]                                                \n",
            "Operation completed over 1 objects/316.7 MiB.                                    \n"
          ]
        }
      ]
    },
    {
      "cell_type": "markdown",
      "source": [
        "#tf, df, tokenizing and other helper functions"
      ],
      "metadata": {
        "id": "_H4UmiLSAGA8"
      }
    },
    {
      "cell_type": "code",
      "source": [
        "english_stopwords = frozenset(stopwords.words('english'))\n",
        "corpus_stopwords = [\"category\", \"references\", \"also\", \"external\", \"links\", #TODO: CHECK IF NEED TO ADD\n",
        "                    \"may\", \"first\", \"see\", \"history\", \"people\", \"one\", \"two\", \n",
        "                    \"part\", \"thumb\", \"including\", \"second\", \"following\", \n",
        "                    \"many\", \"however\", \"would\", \"became\"]\n",
        "all_stopwords = english_stopwords.union(corpus_stopwords)\n",
        "RE_WORD = re.compile(r\"\"\"[\\#\\@\\w](['\\-]?\\w){2,24}\"\"\", re.UNICODE)\n",
        "\n",
        "#Flattens a list of lists to one single list\n",
        "def flatten_lst(t):\n",
        "    return [item for sublist in t for item in sublist]\n",
        "\n",
        "NUM_BUCKETS = 124\n",
        "def token2bucket_id(token):\n",
        "  return int(_hash(token),16) % NUM_BUCKETS\n",
        "\n",
        "def tokenize(text):\n",
        "    tokens = [token.group() for token in RE_WORD.finditer(text.lower())]\n",
        "    return tokens\n",
        "\n",
        "def tokenize_list_of_texts(lst):\n",
        "    output = []\n",
        "    for text in lst:\n",
        "      tokens = [token.group() for token in RE_WORD.finditer(text.lower())]\n",
        "      output.append(tokens)\n",
        "    return output\n",
        "\n",
        "# Calc TF\n",
        "# Returns a list of (token, (doc_id, tf)) pairs for each token (word) in the text\n",
        "def word_count(id,text):\n",
        "  ''' Count the frequency of each word in `text` (tf) that is not included in \n",
        "  `all_stopwords` and return entries that will go into our posting lists. \n",
        "  Parameters:\n",
        "  -----------\n",
        "    text: str\n",
        "      Text of one document\n",
        "    id: int\n",
        "      Document id\n",
        "  Returns:\n",
        "  --------\n",
        "    List of tuples\n",
        "      A list of (token, (doc_id, tf)) pairs \n",
        "      for example: [(\"Anarchism\", (12, 5)), ...]\n",
        "  '''\n",
        "  tokens = [token.group() for token in RE_WORD.finditer(text.lower())]\n",
        " \n",
        "  terms = {}\n",
        "  tf = Counter()\n",
        "  for token in tokens:\n",
        "    if token in all_stopwords:\n",
        "      continue\n",
        "    current = tf.get(token, 0)\n",
        "    tf[token] = current + 1\n",
        "    terms[token] = (id,current +1)\n",
        "\n",
        "\n",
        "  return list(terms.items())\n",
        "\n",
        "def word_count_anchor(id,list_of_tupels):\n",
        "  ''' Count the frequency of each word in `text` (tf) that is not included in \n",
        "  `all_stopwords` and return entries that will go into our posting lists. \n",
        "  Parameters:\n",
        "  -----------\n",
        "    text: str\n",
        "      Text of one document\n",
        "    id: int\n",
        "      Document id\n",
        "  Returns:\n",
        "  --------\n",
        "    List of tuples\n",
        "      A list of (token, (doc_id, tf)) pairs \n",
        "      for example: [(\"Anarchism\", (12, 5)), ...]\n",
        "  '''\n",
        "  t=flatten_lst([RE_WORD.finditer(text.lower()) for dest_id,text in list_of_tupels])\n",
        "  tokens = [token.group() for token in t]\n",
        "\n",
        "  terms = {}\n",
        "  tf = Counter()\n",
        "  for token in tokens:\n",
        "    if token in all_stopwords:\n",
        "      continue\n",
        "    current = tf.get(token, 0)\n",
        "    tf[token] = current + 1\n",
        "    terms[token] = (id,current +1)\n",
        "\n",
        "  return list(terms.items())\n",
        "\n",
        "# Returns a sorted posting list from an unsorted posting list. Sorting by tf of doc id\n",
        "def reduce_word_counts(unsorted_pl):\n",
        "  ''' Returns a sorted posting list by wiki_id.\n",
        "  Parameters:\n",
        "  -----------\n",
        "    unsorted_pl: list of tuples\n",
        "      A list of (wiki_id, tf) tuples \n",
        "  Returns:\n",
        "  --------\n",
        "    list of tuples\n",
        "      A sorted posting list.\n",
        "  '''\n",
        "\n",
        "  return(sorted(unsorted_pl, key = lambda x: x[0]))\n",
        "\n",
        "def calculate_df(postings):\n",
        "  ''' Takes a posting list RDD and calculate the df for each token.\n",
        "  Parameters:\n",
        "  -----------\n",
        "    postings: RDD\n",
        "      An RDD where each element is a (token, posting_list) pair.\n",
        "  Returns:\n",
        "  --------\n",
        "    RDD\n",
        "      An RDD where each element is a (token, df) pair.\n",
        "  '''\n",
        "  # YOUR CODE HERE\n",
        "  return postings.map(lambda x: (x[0],len(x[1]))).partitionBy(16)\n",
        "\n",
        "def partition_postings_and_write(postings,location):\n",
        "  ''' A function that partitions the posting lists into buckets, writes out \n",
        "  all posting lists in a bucket to disk, and returns the posting locations for \n",
        "  each bucket. Partitioning should be done through the use of `token2bucket` \n",
        "  above. Writing to disk should use the function  `write_a_posting_list`, a \n",
        "  static method implemented in inverted_index_colab.py under the InvertedIndex \n",
        "  class. \n",
        "  Parameters:\n",
        "  -----------\n",
        "    postings: RDD\n",
        "      An RDD where each item is a (w, posting_list) pair.\n",
        "  Returns:\n",
        "  --------\n",
        "    RDD\n",
        "      An RDD where each item is a posting locations dictionary for a bucket. The\n",
        "      posting locations maintain a list for each word of file locations and \n",
        "      offsets its posting list was written to. See `write_a_posting_list` for \n",
        "      more details.\n",
        "  '''\n",
        "  res = defaultdict(list)\n",
        "  output_list = []\n",
        "  bucketed_postings = postings.map(lambda x:(token2bucket_id(x[0]),x)).groupByKey()\n",
        "  for id,content in bucketed_postings.toLocalIterator():\n",
        "    #output_list.append(InvertedIndex.write_a_posting_list((id,content),\"208994616\")) #for gcp ########################################################\n",
        "    output_list.append(InvertedIndex.write_a_posting_list((id,content),location))\n",
        "  sc = SparkContext.getOrCreate(SparkConf().setMaster(\"local[*]\"))\n",
        "  return sc.parallelize(output_list,numSlices=16)"
      ],
      "metadata": {
        "id": "LAufaR--XYOQ"
      },
      "execution_count": 17,
      "outputs": []
    },
    {
      "cell_type": "markdown",
      "source": [
        "# loading big index and DLs : <font color='green'>Indexes here</font>"
      ],
      "metadata": {
        "id": "mpJvUecb_POD"
      }
    },
    {
      "cell_type": "code",
      "source": [
        "from google.colab import drive\n",
        "drive.mount('/content/drive')\n",
        "\n",
        "drive_base_path='./drive/MyDrive/'"
      ],
      "metadata": {
        "colab": {
          "base_uri": "https://localhost:8080/"
        },
        "id": "UsVPqx4b_IHV",
        "outputId": "8142d7e2-5014-49ec-9269-1345e50ea0c1"
      },
      "execution_count": 18,
      "outputs": [
        {
          "output_type": "stream",
          "name": "stdout",
          "text": [
            "Drive already mounted at /content/drive; to attempt to forcibly remount, call drive.mount(\"/content/drive\", force_remount=True).\n"
          ]
        }
      ]
    },
    {
      "cell_type": "markdown",
      "source": [
        "loading DLs"
      ],
      "metadata": {
        "id": "x51-BuxWK-9I"
      }
    },
    {
      "cell_type": "code",
      "source": [
        "import json\n",
        "with open(drive_base_path+\"title_index/\"+'title_DL.json', 'rt') as f:\n",
        "  title_DL = json.load(f)\n",
        "#with open(drive_base_path+\"anchor_index/\"+'dl_anchor_new.json', 'rt') as f:\n",
        "#  anchor_DL = json.load(f)\n",
        "with open(drive_base_path+\"body_index/\"+'body_DL.json', 'rt') as f:\n",
        "  body_DL = json.load(f)\n"
      ],
      "metadata": {
        "id": "v7oRmkHR_Vs8"
      },
      "execution_count": 19,
      "outputs": []
    },
    {
      "cell_type": "markdown",
      "source": [
        "loading indices"
      ],
      "metadata": {
        "id": "0dtBiZeVQBXA"
      }
    },
    {
      "cell_type": "code",
      "source": [
        "title_index=InvertedIndex.read_index(drive_base_path+'title_index', 'index')\n",
        "anchor_index=InvertedIndex.read_index(drive_base_path+'anchor_index', 'index')\n",
        "body_index=InvertedIndex.read_index(drive_base_path+'body_index', 'index')\n",
        "\n",
        "#!cp drive_base_path+'body_index'"
      ],
      "metadata": {
        "id": "disBA4g8LaNG"
      },
      "execution_count": 20,
      "outputs": []
    },
    {
      "cell_type": "markdown",
      "source": [
        "Changing posting locs to match local colab file location"
      ],
      "metadata": {
        "id": "b6xelcVSHza1"
      }
    },
    {
      "cell_type": "code",
      "source": [
        "def change_index_locs(index):\n",
        "    for term,loc_tuple in index.posting_locs.items():\n",
        "      new_list = []\n",
        "      for loc,offset in loc_tuple:\n",
        "        splited = loc.split(\"/\")\n",
        "        for part in splited:\n",
        "          if \"index\" in part:\n",
        "            rebuilt = part\n",
        "          if \"bin\" in part:\n",
        "            rebuilt = \"/content/drive/MyDrive/\" + rebuilt + \"/\" + part\n",
        "        loc_tuple = (rebuilt,offset)\n",
        "        new_list.append(loc_tuple)\n",
        "      index.posting_locs[term] = new_list\n",
        "if True: #Change to \"True\" to enable chaging the posting locs in the indices to Mydrive location\n",
        "  change_index_locs(body_index)\n",
        "  change_index_locs(anchor_index)\n",
        "  change_index_locs(title_index)\n",
        "\n",
        "\n"
      ],
      "metadata": {
        "id": "jhIDmsKwHyXD"
      },
      "execution_count": 21,
      "outputs": []
    },
    {
      "cell_type": "code",
      "source": [
        "def find_postings(terms,index):\n",
        "    res={}\n",
        "    with closing(MultiFileReader()) as reader:\n",
        "        for w, locs in index.posting_locs.items():\n",
        "          if(res.keys()==terms):\n",
        "          #if (terms in res.keys()):\n",
        "            break\n",
        "          if(w not in terms):\n",
        "            continue\n",
        "          else:\n",
        "            b = reader.read(locs, index.df[w] * TUPLE_SIZE)\n",
        "            posting_list = []\n",
        "            for i in range(index.df[w]):\n",
        "              doc_id = int.from_bytes(b[i*TUPLE_SIZE:i*TUPLE_SIZE+4], 'big')\n",
        "              tf = int.from_bytes(b[i*TUPLE_SIZE+4:(i+1)*TUPLE_SIZE], 'big')\n",
        "              posting_list.append((doc_id, tf))\n",
        "            res[w]=posting_list\n",
        "\n",
        "    return res\n",
        "            "
      ],
      "metadata": {
        "id": "6ZcqOr83jlLY"
      },
      "execution_count": 22,
      "outputs": []
    },
    {
      "cell_type": "markdown",
      "source": [
        "# TF-idf and cosine similarity"
      ],
      "metadata": {
        "id": "rLlrnBimwmnf"
      }
    },
    {
      "cell_type": "code",
      "source": [
        "def tf_idf(t,d,DL,index,tf):\n",
        "  term_freq_not_normelized=tf\n",
        "  D=DL[str(d)]\n",
        "  tf=term_freq_not_normelized/D\n",
        "  N=len(DL)\n",
        "  idf=math.log2(N/index.df[t])\n",
        "  return tf*idf"
      ],
      "metadata": {
        "id": "qxNi4ddcwoUY"
      },
      "execution_count": 23,
      "outputs": []
    },
    {
      "cell_type": "code",
      "source": [
        "def cosine_sim(index,DL,query,N = 3):\n",
        "  dict_count = Counter()\n",
        "  pls = find_postings(np.unique(query).tolist(),index)\n",
        "  tf_q = Counter()\n",
        "  d_tfs = defaultdict(list)\n",
        "  for t in query:\n",
        "    tf_q[t] += 1\n",
        "  for t,pl in pls.items():\n",
        "    for doc_id,tf_d in pl:\n",
        "      tf_idf_val=tf_idf(t,doc_id,DL,index,tf_d)\n",
        "      dict_count[doc_id] += (tf_q[t]) * tf_idf_val\n",
        "      d_tfs[doc_id].append(tf_idf_val)\n",
        "  for doc_id,value in dict_count.items():\n",
        "    dict_count[doc_id] = value*(1/(norm(list(tf_q.values()))))*(1/(norm(list(d_tfs[doc_id]))))\n",
        "  return sorted([(doc_id, builtins.round(score,5)) for doc_id, score in dict_count.items()], key = lambda x: x[1],reverse=True)[:N]\n"
      ],
      "metadata": {
        "id": "Q4RqWISSaj7P"
      },
      "execution_count": 24,
      "outputs": []
    },
    {
      "cell_type": "markdown",
      "source": [
        "# binary ranking using the title of articles and anchor text\n",
        "\n"
      ],
      "metadata": {
        "id": "-_yrc27ACNwL"
      }
    },
    {
      "cell_type": "code",
      "source": [
        "def binary_ranking_title_and_anchor_text(query,index):\n",
        "  matches = Counter()\n",
        "  pls = find_postings(np.unique(query).tolist(),index)\n",
        "  for term in np.unique(query): \n",
        "      list_of_doc = pls[term.lower()]    \n",
        "      for doc_id, freq in list_of_doc:\n",
        "          matches[doc_id] = matches.get(doc_id, 0) + 1\n",
        "  return sorted(matches.items(),key=lambda x:x[1], reverse =True)\n"
      ],
      "metadata": {
        "id": "d3mpgXUADtBZ"
      },
      "execution_count": 25,
      "outputs": []
    },
    {
      "cell_type": "markdown",
      "source": [
        "# ranking by PageRank "
      ],
      "metadata": {
        "id": "oW8aTbO3DdNz"
      }
    },
    {
      "cell_type": "code",
      "source": [
        "def getPr(id):\n",
        "  k=id%800\n",
        "  with open('prr/pr'+str(k)+'.json', 'rt') as f:\n",
        "     pr_k = json.load(f)\n",
        "  for t in pr_k:\n",
        "    if t[0]==id:\n",
        "      return t[1]\n",
        "  return 0"
      ],
      "metadata": {
        "id": "cxyH-SLF4PPy"
      },
      "execution_count": 26,
      "outputs": []
    },
    {
      "cell_type": "markdown",
      "source": [
        "# ranking by article page views "
      ],
      "metadata": {
        "id": "0H9HtYRnD1l5"
      }
    },
    {
      "cell_type": "code",
      "source": [
        "def getPv(id):\n",
        "  k=id%800\n",
        "  with open(drive_base_path+'/pv'+str(k)+'.json', 'rt') as f:\n",
        "    pr_k = json.load(f)\n",
        "  for t in pr_k:\n",
        "    if t[0]==id:\n",
        "      return t[1]\n",
        "  return 0"
      ],
      "metadata": {
        "id": "4U6QO93bcylW"
      },
      "execution_count": 27,
      "outputs": []
    },
    {
      "cell_type": "markdown",
      "source": [
        "# BM25 helper function"
      ],
      "metadata": {
        "id": "opkGx9riBykd"
      }
    },
    {
      "cell_type": "code",
      "execution_count": 28,
      "metadata": {
        "id": "HQKCt86l3_ml"
      },
      "outputs": [],
      "source": [
        "def get_candidate_documents(query_to_search,index,pls):\n",
        "    \"\"\"\n",
        "    Generate a dictionary representing a pool of candidate documents for a given query. \n",
        "    \n",
        "    Parameters:\n",
        "    -----------\n",
        "    query_to_search: list of tokens (str). This list will be preprocessed in advance (e.g., lower case, filtering stopwords, etc.'). \n",
        "                     Example: 'Hello, I love information retrival' --->  ['hello','love','information','retrieval']\n",
        "\n",
        "    index:           inverted index loaded from the corresponding files.\n",
        "\n",
        "    pls: relevent pls for query terms\n",
        "    Returns:\n",
        "    -----------\n",
        "    list of candidates. In the following format:\n",
        "                                                               key: pair (doc_id,term)\n",
        "                                                               value: tfidf score. \n",
        "    \"\"\"\n",
        "    #pls = find_postings(np.unique(query_to_search),index)\n",
        "    candidates = []    \n",
        "    for term,pl in pls.items():\n",
        "        if term in index.df.keys():        \n",
        "            current_list = pls[term.lower()]    \n",
        "            candidates += current_list  \n",
        "\n",
        "    return np.unique([d for d,s in candidates])\n"
      ]
    },
    {
      "cell_type": "markdown",
      "source": [
        "# BM25 class"
      ],
      "metadata": {
        "id": "VFA_GLqu4oHO"
      }
    },
    {
      "cell_type": "code",
      "execution_count": 52,
      "metadata": {
        "deletable": false,
        "id": "nPOS5HoohGTJ",
        "nbgrader": {
          "cell_type": "code",
          "checksum": "1866e668d1c0d235e49d047c4ff954ad",
          "grade": false,
          "grade_id": "cell-bb4b866e29cf18ab",
          "locked": false,
          "schema_version": 3,
          "solution": true,
          "task": false
        }
      },
      "outputs": [],
      "source": [
        "import math\n",
        "from itertools import chain\n",
        "import time\n",
        "# When preprocessing the data have a dictionary of document length for each document saved in a variable called `DL`.\n",
        "class BM25_from_index:\n",
        "    \"\"\"\n",
        "    Best Match 25.    \n",
        "    ----------\n",
        "    k1 : float, default 1.5\n",
        "\n",
        "    b : float, default 0.75\n",
        "\n",
        "    index: inverted index\n",
        "    \"\"\"\n",
        "\n",
        "    def __init__(self,index,DL,k1=1.5, b=0.75):\n",
        "        self.b = b\n",
        "        self.k1 = k1\n",
        "        self.index = index\n",
        "        self.N = len(DL)\n",
        "        self.AVGDL = builtins.sum(DL.values())/self.N\n",
        "        self.DL = DL\n",
        "        #self.words, self.pls = zip(*self.index.posting_lists_iter())  \n",
        "\n",
        "    def calc_idf(self,list_of_tokens):\n",
        "        \"\"\"\n",
        "        This function calculate the idf values according to the BM25 idf formula for each term in the query.\n",
        "        \n",
        "        Parameters:\n",
        "        -----------\n",
        "        query: list of token representing the query. For example: ['look', 'blue', 'sky']\n",
        "        \n",
        "        Returns:\n",
        "        -----------\n",
        "        idf: dictionary of idf scores. As follows: \n",
        "                                                    key: term\n",
        "                                                    value: bm25 idf score\n",
        "        \"\"\"        \n",
        "        idf = {}        \n",
        "        for term in list_of_tokens:            \n",
        "            if term in self.index.df.keys():\n",
        "                n_ti = self.index.df[term]\n",
        "                idf[term] = math.log(1 + (self.N - n_ti + 0.5) / (n_ti + 0.5))\n",
        "            else:\n",
        "                pass                             \n",
        "        return idf\n",
        "        \n",
        "\n",
        "    def search(self, queries,N=3):\n",
        "        \"\"\"\n",
        "        This function calculate the bm25 score for given query and document.\n",
        "        We need to check only documents which are 'candidates' for a given query. \n",
        "        This function return a dictionary of scores as the following:\n",
        "                                                                    key: query_id\n",
        "                                                                    value: a ranked list of pairs (doc_id, score) in the length of N.\n",
        "        \n",
        "        Parameters:\n",
        "        -----------\n",
        "        query: list of token representing the query. For example: ['look', 'blue', 'sky']\n",
        "        doc_id: integer, document id.\n",
        "        \n",
        "        Returns:\n",
        "        -----------\n",
        "        score: float, bm25 score.\n",
        "        \"\"\"\n",
        "        # YOUR CODE HERE\n",
        "        terms = []\n",
        "        for query in queries:\n",
        "          for term in query:\n",
        "            terms.append(term)\n",
        "        uniques = set(terms)\n",
        "        self.idf = self.calc_idf(uniques)\n",
        "        output = OrderedDict()\n",
        "        for i,query in enumerate(queries):\n",
        "            scores = []\n",
        "            #loading pls for the specific query's terms\n",
        "            pls = find_postings(np.unique(query).tolist(),self.index)\n",
        "            #candidates = get_candidate_documents(query,self.index,self.words,self.pls)\n",
        "            candidates = get_candidate_documents(query,self.index,pls)\n",
        "\n",
        "            #scores.append([(doc_id,builtins.round(self._score(query, doc_id,pls),3)) for doc_id in (([i for i in candidates]))])\n",
        "            #for doc_id in (([i for i in candidates])):\n",
        "            #  scores.append([(doc_id,builtins.round(self._score(query, doc_id,pls),3))\n",
        "            #docs = [doc_id in (([i for i in candidates]))]:\n",
        "            scores = list(self._score(query, candidates,pls).items())\n",
        "            #scores = scores[0]\n",
        "            scores.sort(reverse = True,key = lambda x:x[1])\n",
        "            output[i] = scores[:N]\n",
        "        return output\n",
        "\n",
        "    def _score(self, query, docs,pls):\n",
        "        \"\"\"\n",
        "        This function calculate the bm25 score for given query and document.\n",
        "        \n",
        "        Parameters:\n",
        "        -----------\n",
        "        query: list of token representing the query. For example: ['look', 'blue', 'sky']\n",
        "        doc_id: integer, document id.\n",
        "        \n",
        "        Returns:\n",
        "        -----------\n",
        "        score: float, bm25 score.\n",
        "        \"\"\"        \n",
        "        scores = Counter() #??\n",
        "        #doc_len = self.DL[str(doc_id)]        \n",
        "             \n",
        "        # for term in query:\n",
        "        #     if term in self.index.df.keys():                \n",
        "        #         term_frequencies = dict(pls[term.lower()])                \n",
        "        #         if doc_id in term_frequencies.keys():            \n",
        "        #             freq = term_frequencies[doc_id]\n",
        "        #             numerator = self.idf[term] * freq * (self.k1 + 1)\n",
        "        #             denominator = freq + self.k1 * (1 - self.b + self.b * doc_len / self.AVGDL)\n",
        "        #             score += (numerator / denominator)\n",
        "        for term in query:\n",
        "            if term in self.index.df.keys():            \n",
        "                term_frequencies = dict(pls[term.lower()])\n",
        "                relevent_docs =  intersection(docs,[doc_id for doc_id,tf in term_frequencies.items()])\n",
        "                for doc_id in relevent_docs:\n",
        "                    tf = term_frequencies[doc_id]\n",
        "                    numerator = self.idf[term] * tf * (self.k1 + 1)\n",
        "                    denominator = tf + self.k1 * (1 - self.b + self.b * self.DL[str(doc_id)] / self.AVGDL)\n",
        "                    scores[doc_id] += (numerator / denominator)\n",
        "\n",
        "                # for doc_id,tf in term_frequencies:            \n",
        "                #   if (doc_id in docs):\n",
        "                #     numerator = self.idf[term] * tf * (self.k1 + 1)\n",
        "                #     denominator = tf + self.k1 * (1 - self.b + self.b * self.DL[str(doc_id)] / self.AVGDL)\n",
        "                #     scores[doc_id] += (numerator / denominator)\n",
        "        return scores"
      ]
    },
    {
      "cell_type": "markdown",
      "source": [
        "# BM25 merge results"
      ],
      "metadata": {
        "id": "KXOLuD8e4sw9"
      }
    },
    {
      "cell_type": "code",
      "source": [
        "def merge_results(title_scores,body_scores,title_weight=0.5,text_weight=0.5,N = 40):    \n",
        "    \"\"\"\n",
        "    This function merge and sort documents retrieved by its weighte score (e.g., title and body). \n",
        "\n",
        "    Parameters:\n",
        "    -----------\n",
        "    title_scores: a dictionary build upon the title index of queries and tuples representing scores as follows: \n",
        "                                                                            key: query_id\n",
        "                                                                            value: list of pairs in the following format:(doc_id,score)\n",
        "                \n",
        "    body_scores: a dictionary build upon the body/text index of queries and tuples representing scores as follows: \n",
        "                                                                            key: query_id\n",
        "                                                                            value: list of pairs in the following format:(doc_id,score)\n",
        "    title_weight: float, for weigted average utilizing title and body scores\n",
        "    text_weight: float, for weigted average utilizing title and body scores\n",
        "    N: Integer. How many document to retrieve. This argument is passed to topN function. By default N = 3, for the topN function. \n",
        "    \n",
        "    Returns:\n",
        "    -----------\n",
        "    dictionary of querires and topN pairs as follows:\n",
        "                                                        key: query_id\n",
        "                                                        value: list of pairs in the following format:(doc_id,score). \n",
        "    \"\"\"\n",
        "    # YOUR CODE HERE\n",
        "    output = OrderedDict()\n",
        "    for key in title_scores:\n",
        "      temp = []\n",
        "      title_values = title_scores[key]\n",
        "      body_values = body_scores[key]\n",
        "      for id,title in title_values:\n",
        "        for id2,body in body_values:\n",
        "          if id == id2:\n",
        "            temp.append((id,title*title_weight+body*text_weight))\n",
        "        if id not in (item[0] for item in temp):\n",
        "          temp.append((id,title*title_weight))\n",
        "      for id,body in body_values:\n",
        "        if id not in (item[0] for item in temp):\n",
        "          temp.append((id,body*text_weight))\n",
        "      temp.sort(key = lambda x:x[1], reverse = True)\n",
        "      output[key] = temp[:N]\n",
        "    return output\n",
        "\n",
        "def merge_results_for_three(title_scores,body_scores,anchor_scores,title_weight=0.25,text_weight=0.5,anchor_weight=0.25,N = 40):\n",
        "    merged_title_body = merge_results(title_scores,body_scores,title_weight,text_weight,500)\n",
        "    return merge_results(merged_title_body,anchor_scores,1,anchor_weight,N)"
      ],
      "metadata": {
        "id": "8vA5NpVq4Uyl"
      },
      "execution_count": 30,
      "outputs": []
    },
    {
      "cell_type": "markdown",
      "source": [
        "# BM25 functionallity functions"
      ],
      "metadata": {
        "id": "DRjHKPWC4339"
      }
    },
    {
      "cell_type": "code",
      "source": [
        "#Create BM25 instances for body, title and anchor text.\n",
        "bm25_body = BM25_from_index(body_index,body_DL)\n",
        "bm25_title = BM25_from_index(title_index,title_DL)\n"
      ],
      "metadata": {
        "id": "AMutDP4Vtp-u"
      },
      "execution_count": 53,
      "outputs": []
    },
    {
      "cell_type": "code",
      "source": [
        "#function to run bm25 on the given queries and get merged results from bm25 on body of the docs and title of the docs\n",
        "def merged_BM25_for_queries(queries_to_test,title_weight=0.574257,text_weight=0.425742,N = 40):\n",
        "    body_bm25_res = bm25_body.search(queries_to_test,N=N)\n",
        "    title_bm25_res = bm25_title.search(queries_to_test,N=N)\n",
        "    merged_title_body = merge_results(title_bm25_res,body_bm25_res,title_weight=title_weight,text_weight=text_weight,N=N)\n",
        "    return merged_title_body"
      ],
      "metadata": {
        "id": "I_vnV-T2tp-p"
      },
      "execution_count": 54,
      "outputs": []
    },
    {
      "cell_type": "code",
      "source": [
        "def getTitle(id):\n",
        "  k=id%800\n",
        "  with open('drive/MyDrive/doc2title/d2t'+str(k)+'.json', 'rt') as f:\n",
        "     pr_k = json.load(f)\n",
        "  for t in pr_k:\n",
        "    if t[0]==id:\n",
        "      return t[1]\n",
        "  return 0"
      ],
      "metadata": {
        "id": "6h5xk9cxr7kb"
      },
      "execution_count": 55,
      "outputs": []
    },
    {
      "cell_type": "markdown",
      "source": [
        "# Estimate\n",
        "\n",
        "\n"
      ],
      "metadata": {
        "id": "bd__I0S85M5p"
      }
    },
    {
      "cell_type": "code",
      "source": [
        "#@title Default title text\n",
        "def intersection(l1,l2):      \n",
        "    \"\"\"\n",
        "    This function perform an intersection between two lists.\n",
        "\n",
        "    Parameters\n",
        "    ----------\n",
        "    l1: list of documents. Each element is a doc_id.\n",
        "    l2: list of documents. Each element is a doc_id.\n",
        "\n",
        "    Returns:\n",
        "    ----------\n",
        "    list with the intersection (without duplicates) of l1 and l2\n",
        "    \"\"\"\n",
        "    return list(builtins.set(l1)&builtins.set(l2))\n",
        "def precision_at_k(true_list,predicted_list,k=40):    \n",
        "    \"\"\"\n",
        "    This function calculate the precision@k metric.\n",
        "\n",
        "    Parameters\n",
        "    -----------\n",
        "    true_list: list of relevant documents. Each element is a doc_id.\n",
        "    predicted_list: sorted list of documents predicted as relevant. Each element is a doc_id. Sorted is performed by relevance score\n",
        "    k: integer, a number to slice the length of the predicted_list\n",
        "    \n",
        "    Returns:\n",
        "    -----------\n",
        "    float, precision@k with 3 digits after the decimal point.\n",
        "    \"\"\"      \n",
        "    # YOUR CODE HERE\n",
        "\n",
        "    up=len(intersection(predicted_list[:k],true_list))\n",
        "    down=k\n",
        "    return builtins.round(up/down,3)\n",
        "\n",
        "def average_precision(true_list,predicted_list,k=40):\n",
        "    \"\"\"\n",
        "    This function calculate the average_precision@k metric.(i.e., precision in every recall point).     \n",
        "\n",
        "    Parameters\n",
        "    -----------\n",
        "    true_list: list of relevant documents. Each element is a doc_id.\n",
        "    predicted_list: sorted list of documents predicted as relevant. Each element is a doc_id. Sorted is performed by relevance score\n",
        "    k: integer, a number to slice the length of the predicted_list\n",
        "    \n",
        "    Returns:\n",
        "    -----------\n",
        "    float, average precision@k with 3 digits after the decimal point.\n",
        "    \"\"\"\n",
        "    # YOUR CODE HERE\n",
        "    # for each relevant doc that in pl and in tl activate p@k and sum them,after \n",
        "    #devide by number of relevant\n",
        "    sum=0\n",
        "    rel=len(intersection(predicted_list[:k],true_list))\n",
        "    if rel==0:\n",
        "      return 0\n",
        "    for i_pl,doc in enumerate(predicted_list[:k]):\n",
        "      if doc in true_list:\n",
        "        sum+=precision_at_k(true_list,predicted_list[:k],i_pl+1)\n",
        "    return builtins.round(sum/rel,3)\n",
        "\n",
        "def mean_ap(true_dict,predicted_dict,k=40):\n",
        "  sum=0\n",
        "  for q_id,true_lst in true_dict.items():\n",
        "    sum+=average_precision(true_lst,predicted_dict[q_id])\n",
        "  return sum/len(true_dict)"
      ],
      "metadata": {
        "cellView": "code",
        "id": "RxpG4Yhgub-M"
      },
      "execution_count": 34,
      "outputs": []
    },
    {
      "cell_type": "markdown",
      "source": [
        "# Map@40 for bm_25 results"
      ],
      "metadata": {
        "id": "u71GgoDY1cKp"
      }
    },
    {
      "cell_type": "code",
      "source": [
        "def map40_for_bm25_result(bm25_result,queries):\n",
        "    queries_dict={i:d[1] for i,d in enumerate(queries.items())}\n",
        "    bm25_dict= {qid:[doc for doc,s in lst] for qid,lst in bm25_result.items()}\n",
        "    map_bm25=mean_ap(queries_dict,bm25_dict,40)\n",
        "    return map_bm25\n"
      ],
      "metadata": {
        "id": "TLiUgtvIvKZa"
      },
      "execution_count": 35,
      "outputs": []
    },
    {
      "cell_type": "markdown",
      "source": [
        "# Test runs"
      ],
      "metadata": {
        "id": "_6_pdp191jDF"
      }
    },
    {
      "cell_type": "code",
      "source": [
        "# body_bm25_res = bm25_body.search(q_tokenes_lst)\n",
        "# title_bm25_res = bm25_title.search(q_tokenes_lst)"
      ],
      "metadata": {
        "id": "Uv6d7qJDHaCg"
      },
      "execution_count": 36,
      "outputs": []
    },
    {
      "cell_type": "code",
      "source": [
        "# query2doc_bm25_anchor = bm25_anchor.search(quety_terms_lst,N=40)\n",
        "# bm25_dict_anchor = {qid:[doc for doc,s in lst] for qid,lst in query2doc_bm25_anchor.items()}\n",
        "# map_bm25_anchor=mean_ap(qid_to_true_docs_dict,bm25_dict_anchor,40)\n",
        "\n",
        "# query2doc_bm25_title = bm25_title.search(quety_terms_lst,N=40)\n",
        "# bm25_dict_title = {qid:[doc for doc,s in lst] for qid,lst in query2doc_bm25_title.items()}\n",
        "# map_bm25_title=mean_ap(qid_to_true_docs_dict,bm25_dict_title,40)\n"
      ],
      "metadata": {
        "id": "Fa5YwHKvMJfv"
      },
      "execution_count": 37,
      "outputs": []
    },
    {
      "cell_type": "code",
      "source": [
        "if False: #Change to true to calc map@40 for cosine sim on test queries\n",
        "\n",
        "  queries = {i:[t.lower() for t in q_lst] for i,q_lst in q_tokenes_dict.items()}\n",
        "  D={}\n",
        "  for query in queries:\n",
        "    D[query] = cosine_sim(body_index,body_DL,queries[query],40)\n",
        "\n",
        "  qid_to_returned_docs_dict={i:t for i,t in D.items()}\n",
        "  qid_to_true_docs_dict={i:d[1] for i,d in enumerate(queries_to_docs_raw.items())}\n",
        "  res={qid:[k for k,v in tl] for qid,tl in qid_to_returned_docs_dict.items()}\n",
        "  map_cosim_body=mean_ap(qid_to_true_docs_dict,res)\n",
        "  \n",
        "\n",
        "# bm25_dict={qid:[doc for doc,s in lst] for qid,lst in query2doc_bm25.items()}\n",
        "# map_bm25_body=mean_ap(qid_to_true_docs_dict,bm25_dict,40)\n",
        "# average_precision(q_tokenes_dict[0],cosine_sim_result[0])"
      ],
      "metadata": {
        "id": "H6A6a4yx6vgO"
      },
      "execution_count": 38,
      "outputs": []
    },
    {
      "cell_type": "code",
      "source": [
        "#print('cosine simularity strategy for body MAP@40 score: '+str(map_cosim_body))\n",
        "# print('bm25 strategy for body MAP@40 score: '+str(map_bm25_body))\n",
        "# print('bm25 strategy for title MAP@40 score: '+str(map_bm25_title))\n",
        "# #print('bm25 strategy for anchor text MAP@40 score: '+str(map_bm25_anchor))"
      ],
      "metadata": {
        "id": "i_UVlQIa05BW"
      },
      "execution_count": 39,
      "outputs": []
    },
    {
      "cell_type": "code",
      "source": [
        "\n",
        "\n",
        "# qid_to_returned_docs_dict={i:t for i,t in D.items()}\n",
        "# res={qid:[k for k,v in tl] for qid,tl in qid_to_returned_docs_dict.items()}\n",
        "# map_cosim_body=mean_ap(qid_to_true_docs_dict,res)\n",
        "# print('cosine simularity strategy MAP@40 score: '+str(map_cosim_body))\n",
        "\n",
        "# bm25_dict={qid:[doc for doc,s in lst] for qid,lst in query2doc_bm25.items()}\n",
        "# map_bm25_body=mean_ap(qid_to_true_docs_dict,bm25_dict,40)\n",
        "# average_precision(q_tokenes_dict[0],cosine_sim_result[0])\n",
        "# print('bm25 strategy MAP@40 score: '+str(map_bm25_body))"
      ],
      "metadata": {
        "id": "MuQ2moe3oL79"
      },
      "execution_count": 40,
      "outputs": []
    },
    {
      "cell_type": "code",
      "source": [
        "#body_bm25_res = bm25_body.search(q_tokenes_lst)\n",
        "#title_bm25_res = bm25_title.search(q_tokenes_lst)\n",
        "\n",
        "# merged = merged_BM25_for_queries([tokenized_query],title_weight=0.574257,text_weight=0.425742)\n",
        "# # bm25_dict = {qid:[doc for doc,s in lst] for qid,lst in merged.items()}\n",
        "# #cur = mean_ap(qid_to_true_docs_dict,bm25_dict,40)\n",
        "# #print('bm25 strategy for body and title MAP@40 score TEST 1: '+str(cur))\n",
        "\n",
        "# merged = merged_BM25_for_queries_tests(q_tokenes_lst,title_weight=0.58,text_weight=0.43)\n",
        "# bm25_dict = {qid:[doc for doc,s in lst] for qid,lst in merged.items()}\n",
        "# cur = mean_ap(qid_to_true_docs_dict,bm25_dict,40)\n",
        "# print('bm25 strategy for body and title MAP@40 score TEST 2: '+str(cur))\n",
        "# print(merged)\n",
        "# print(bm25_dict)\n",
        "\n",
        "\n",
        "#Merge for three BM25 scores for body,title and anchor text\n",
        "# merged_res_for_three = merge_results_for_three(query2doc_bm25_title,query2doc_bm25,query2doc_bm25_anchor)\n",
        "# bm25_dict_body_and_title_and_anchor = {qid:[doc for doc,s in lst] for qid,lst in merged_res_for_three.items()}\n",
        "# map_bm25_body_and_title_and_anchor=mean_ap(qid_to_true_docs_dict,bm25_dict_body_and_title_and_anchor,40)\n",
        "# print('bm25 strategy for body and title and anchor MAP@40 score: '+str(map_bm25_body_and_title_and_anchor))\n",
        "\n",
        "# (ts * 0.25 + bs * 0.5)*1 + as * 0.25"
      ],
      "metadata": {
        "id": "dYqUHnMVPUYs"
      },
      "execution_count": null,
      "outputs": []
    },
    {
      "cell_type": "markdown",
      "source": [
        "Testing weights for merging bm25 results"
      ],
      "metadata": {
        "id": "LTnsYUg71uv7"
      }
    },
    {
      "cell_type": "code",
      "source": [
        "#function to run bm25 on the given queries and get merged results from bm25 on body of the docs and title of the docs\n",
        "def merged_BM25_for_queries_tests(queries,title_weight=0.5,text_weight=0.65,N = 40):\n",
        "    #query_terms_lst=[q.lower().split() for q,docs in queries.items()]\n",
        "    merged_title_body = merge_results(title_bm25_res,body_bm25_res,title_weight=title_weight,text_weight=text_weight,N=N)\n",
        "    return merged_title_body"
      ],
      "metadata": {
        "id": "KOJoYJO9Fbbk"
      },
      "execution_count": 42,
      "outputs": []
    },
    {
      "cell_type": "code",
      "source": [
        "def test_diff_weights_4merge(bm25_body,bm25_title,bm_25_anchor,increments = 5):\n",
        "    x = 0\n",
        "    y = 0\n",
        "    z = 0\n",
        "    max=0\n",
        "    for x in range(0,100,increments):\n",
        "      for y in range(0,100,increments):\n",
        "        for z in range(0,100,increments):\n",
        "          merged_res_for_three = merge_results_for_three(bm25_title,bm25_body,bm_25_anchor,x/100,y/100,z/100)\n",
        "          bm25_dict = {qid:[doc for doc,s in lst] for qid,lst in merged_res_for_three.items()}\n",
        "          cur = mean_ap(qid_to_true_docs_dict,bm25_dict,40)\n",
        "          if cur > max:\n",
        "            max = cur\n",
        "            best = (x,y,z)\n",
        "            print(max,best)"
      ],
      "metadata": {
        "id": "CTTTbYPNX8oh"
      },
      "execution_count": 43,
      "outputs": []
    },
    {
      "cell_type": "code",
      "source": [
        "def test_diff_weights_4merge_two(bm25_body,bm25_title,increments = 5):\n",
        "      x = 0\n",
        "      y = 0\n",
        "      max=0\n",
        "      for x in range(0,100,increments):\n",
        "        for y in range(0,100,increments):\n",
        "            #merged_res_for_three = merge_results_for_three(bm25_title,bm25_body,bm_25_anchor,x/100,y/100)\n",
        "            merged = merged_BM25_for_queries_tests(q_tokenes_lst,title_weight=x/100,text_weight=y/100)\n",
        "            bm25_dict = {qid:[doc for doc,s in lst] for qid,lst in merged.items()}\n",
        "            cur = mean_ap(qid_to_true_docs_dict,bm25_dict,40)\n",
        "            if cur > max:\n",
        "              max = cur\n",
        "              best = (x,y)\n",
        "              print(max,best)"
      ],
      "metadata": {
        "id": "BROSw5IP714W"
      },
      "execution_count": 44,
      "outputs": []
    },
    {
      "cell_type": "code",
      "source": [
        "#test_diff_weights_4merge(query2doc_bm25,query2doc_bm25_title,query2doc_bm25_anchor,1)"
      ],
      "metadata": {
        "id": "9vXnz4XjcmVW"
      },
      "execution_count": null,
      "outputs": []
    },
    {
      "cell_type": "code",
      "source": [
        "#test_diff_weights_4merge_two(bm25_body,bm25_title,increments = 1)"
      ],
      "metadata": {
        "id": "MQk0iSZxCbQ0"
      },
      "execution_count": null,
      "outputs": []
    },
    {
      "cell_type": "code",
      "source": [
        "def search_engine(query,N=100):\n",
        "    merged = merged_BM25_for_queries(query,title_weight=0.58,text_weight=0.43,N=N)\n",
        "    doc_list =  [t[0] for t in [lst for qid,lst in merged.items()][0]]\n",
        "    output = []\n",
        "    for doc in doc_list:\n",
        "      print(doc)\n",
        "      output.append((doc,getTitle(doc)))\n",
        "    return output"
      ],
      "metadata": {
        "id": "xDj2Fxqxfzqg"
      },
      "execution_count": 56,
      "outputs": []
    },
    {
      "cell_type": "code",
      "source": [
        "#merged = merged_BM25_for_queries([[\"america\"]],title_weight=0.58,text_weight=0.43)\n",
        "search_engine([[\"america\"]])\n"
      ],
      "metadata": {
        "colab": {
          "base_uri": "https://localhost:8080/",
          "height": 363
        },
        "id": "3GOT8-x6qVYL",
        "outputId": "871d13a1-0460-42c5-8c25-c8c7ac4b99b7"
      },
      "execution_count": 57,
      "outputs": [
        {
          "output_type": "stream",
          "name": "stdout",
          "text": [
            "50083811\n",
            "657449\n"
          ]
        },
        {
          "output_type": "error",
          "ename": "FileNotFoundError",
          "evalue": "ignored",
          "traceback": [
            "\u001b[0;31m---------------------------------------------------------------------------\u001b[0m",
            "\u001b[0;31mFileNotFoundError\u001b[0m                         Traceback (most recent call last)",
            "\u001b[0;32m<ipython-input-57-85fb39ddaecd>\u001b[0m in \u001b[0;36m<module>\u001b[0;34m()\u001b[0m\n\u001b[1;32m      1\u001b[0m \u001b[0;31m#merged = merged_BM25_for_queries([[\"america\"]],title_weight=0.58,text_weight=0.43)\u001b[0m\u001b[0;34m\u001b[0m\u001b[0;34m\u001b[0m\u001b[0;34m\u001b[0m\u001b[0m\n\u001b[0;32m----> 2\u001b[0;31m \u001b[0msearch_engine\u001b[0m\u001b[0;34m(\u001b[0m\u001b[0;34m[\u001b[0m\u001b[0;34m[\u001b[0m\u001b[0;34m\"america\"\u001b[0m\u001b[0;34m]\u001b[0m\u001b[0;34m]\u001b[0m\u001b[0;34m)\u001b[0m\u001b[0;34m\u001b[0m\u001b[0;34m\u001b[0m\u001b[0m\n\u001b[0m",
            "\u001b[0;32m<ipython-input-56-9727f14cd463>\u001b[0m in \u001b[0;36msearch_engine\u001b[0;34m(query, N)\u001b[0m\n\u001b[1;32m      5\u001b[0m     \u001b[0;32mfor\u001b[0m \u001b[0mdoc\u001b[0m \u001b[0;32min\u001b[0m \u001b[0mdoc_list\u001b[0m\u001b[0;34m:\u001b[0m\u001b[0;34m\u001b[0m\u001b[0;34m\u001b[0m\u001b[0m\n\u001b[1;32m      6\u001b[0m       \u001b[0mprint\u001b[0m\u001b[0;34m(\u001b[0m\u001b[0mdoc\u001b[0m\u001b[0;34m)\u001b[0m\u001b[0;34m\u001b[0m\u001b[0;34m\u001b[0m\u001b[0m\n\u001b[0;32m----> 7\u001b[0;31m       \u001b[0moutput\u001b[0m\u001b[0;34m.\u001b[0m\u001b[0mappend\u001b[0m\u001b[0;34m(\u001b[0m\u001b[0;34m(\u001b[0m\u001b[0mdoc\u001b[0m\u001b[0;34m,\u001b[0m\u001b[0mgetTitle\u001b[0m\u001b[0;34m(\u001b[0m\u001b[0mdoc\u001b[0m\u001b[0;34m)\u001b[0m\u001b[0;34m)\u001b[0m\u001b[0;34m)\u001b[0m\u001b[0;34m\u001b[0m\u001b[0;34m\u001b[0m\u001b[0m\n\u001b[0m\u001b[1;32m      8\u001b[0m     \u001b[0;32mreturn\u001b[0m \u001b[0moutput\u001b[0m\u001b[0;34m\u001b[0m\u001b[0;34m\u001b[0m\u001b[0m\n",
            "\u001b[0;32m<ipython-input-55-e10cc73ba70d>\u001b[0m in \u001b[0;36mgetTitle\u001b[0;34m(id)\u001b[0m\n\u001b[1;32m      1\u001b[0m \u001b[0;32mdef\u001b[0m \u001b[0mgetTitle\u001b[0m\u001b[0;34m(\u001b[0m\u001b[0mid\u001b[0m\u001b[0;34m)\u001b[0m\u001b[0;34m:\u001b[0m\u001b[0;34m\u001b[0m\u001b[0;34m\u001b[0m\u001b[0m\n\u001b[1;32m      2\u001b[0m   \u001b[0mk\u001b[0m\u001b[0;34m=\u001b[0m\u001b[0mid\u001b[0m\u001b[0;34m%\u001b[0m\u001b[0;36m800\u001b[0m\u001b[0;34m\u001b[0m\u001b[0;34m\u001b[0m\u001b[0m\n\u001b[0;32m----> 3\u001b[0;31m   \u001b[0;32mwith\u001b[0m \u001b[0mopen\u001b[0m\u001b[0;34m(\u001b[0m\u001b[0;34m'drive/MyDrive/doc2title/d2t'\u001b[0m\u001b[0;34m+\u001b[0m\u001b[0mstr\u001b[0m\u001b[0;34m(\u001b[0m\u001b[0mk\u001b[0m\u001b[0;34m)\u001b[0m\u001b[0;34m+\u001b[0m\u001b[0;34m'.json'\u001b[0m\u001b[0;34m,\u001b[0m \u001b[0;34m'rt'\u001b[0m\u001b[0;34m)\u001b[0m \u001b[0;32mas\u001b[0m \u001b[0mf\u001b[0m\u001b[0;34m:\u001b[0m\u001b[0;34m\u001b[0m\u001b[0;34m\u001b[0m\u001b[0m\n\u001b[0m\u001b[1;32m      4\u001b[0m      \u001b[0mpr_k\u001b[0m \u001b[0;34m=\u001b[0m \u001b[0mjson\u001b[0m\u001b[0;34m.\u001b[0m\u001b[0mload\u001b[0m\u001b[0;34m(\u001b[0m\u001b[0mf\u001b[0m\u001b[0;34m)\u001b[0m\u001b[0;34m\u001b[0m\u001b[0;34m\u001b[0m\u001b[0m\n\u001b[1;32m      5\u001b[0m   \u001b[0;32mfor\u001b[0m \u001b[0mt\u001b[0m \u001b[0;32min\u001b[0m \u001b[0mpr_k\u001b[0m\u001b[0;34m:\u001b[0m\u001b[0;34m\u001b[0m\u001b[0;34m\u001b[0m\u001b[0m\n",
            "\u001b[0;31mFileNotFoundError\u001b[0m: [Errno 2] No such file or directory: 'drive/MyDrive/doc2title/d2t649.json'"
          ]
        }
      ]
    }
  ]
}