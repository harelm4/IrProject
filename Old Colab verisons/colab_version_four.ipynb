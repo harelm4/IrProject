{
  "nbformat": 4,
  "nbformat_minor": 0,
  "metadata": {
    "colab": {
      "name": "notebook after big index.ipynb",
      "provenance": [],
      "collapsed_sections": [
        "udVmmcNf0c1X",
        "xPZqaHvRBJyR",
        "ilQgM7m3BPgs",
        "aTO0Fd5I-OpC",
        "VEM0wf9mAdTN",
        "_H4UmiLSAGA8",
        "Fi_k6ZuUAikc",
        "rGliVCa-AVt8",
        "mpJvUecb_POD",
        "-_yrc27ACNwL",
        "oW8aTbO3DdNz",
        "0H9HtYRnD1l5"
      ]
    },
    "kernelspec": {
      "name": "python3",
      "display_name": "Python 3"
    },
    "language_info": {
      "name": "python"
    }
  },
  "cells": [
    {
      "cell_type": "markdown",
      "source": [
        "#Imports"
      ],
      "metadata": {
        "id": "udVmmcNf0c1X"
      }
    },
    {
      "cell_type": "code",
      "source": [
        "import sys\n",
        "from collections import Counter, OrderedDict\n",
        "import itertools\n",
        "from itertools import islice, count, groupby\n",
        "import pandas as pd\n",
        "import os\n",
        "import re\n",
        "from operator import itemgetter\n",
        "import nltk\n",
        "from nltk.stem.porter import *\n",
        "from nltk.corpus import stopwords\n",
        "from time import time\n",
        "from timeit import timeit\n",
        "from pathlib import Path\n",
        "import pickle\n",
        "import pandas as pd\n",
        "import numpy as np\n",
        "from google.cloud import storage\n",
        "import math\n",
        "nltk.download('stopwords')\n",
        "import builtins\n",
        "from numpy import dot\n",
        "from numpy.linalg import norm\n",
        "\n",
        "import numpy as np\n",
        "import pandas as pd\n",
        "%load_ext google.colab.data_table\n",
        "import bz2\n",
        "from functools import partial\n",
        "from collections import Counter, OrderedDict\n",
        "import pickle\n",
        "import heapq\n",
        "from itertools import islice, count, groupby\n",
        "from xml.etree import ElementTree\n",
        "import codecs\n",
        "import csv\n",
        "import os\n",
        "import re\n",
        "from operator import itemgetter\n",
        "import nltk\n",
        "from nltk.stem.porter import *\n",
        "from nltk.corpus import stopwords\n",
        "import matplotlib.pyplot as plt\n",
        "%matplotlib inline\n",
        "from pathlib import Path\n",
        "import itertools\n",
        "from time import time\n",
        "import hashlib\n",
        "def _hash(s):\n",
        "    return hashlib.blake2b(bytes(s, encoding='utf8'), digest_size=5).hexdigest()\n",
        "\n",
        "\n"
      ],
      "metadata": {
        "id": "Zmg92hymzjtI",
        "colab": {
          "base_uri": "https://localhost:8080/"
        },
        "outputId": "9b5634f3-144f-4c77-8315-b4f12277bc2a"
      },
      "execution_count": 1,
      "outputs": [
        {
          "output_type": "stream",
          "name": "stdout",
          "text": [
            "[nltk_data] Downloading package stopwords to /root/nltk_data...\n",
            "[nltk_data]   Package stopwords is already up-to-date!\n"
          ]
        }
      ]
    },
    {
      "cell_type": "markdown",
      "source": [
        "\n",
        "#helper functions"
      ],
      "metadata": {
        "id": "xPZqaHvRBJyR"
      }
    },
    {
      "cell_type": "code",
      "source": [
        "def flatten_lst(t):\n",
        "    return [item for sublist in t for item in sublist]"
      ],
      "metadata": {
        "id": "mDNKiHcDGn5w"
      },
      "execution_count": 2,
      "outputs": []
    },
    {
      "cell_type": "code",
      "source": [
        "def unq(list1):\n",
        " \n",
        "    # initialize a null list\n",
        "    unique_list = []\n",
        "     \n",
        "    # traverse for all elements\n",
        "    for x in list1:\n",
        "        # check if exists in unique_list or not\n",
        "        if x not in unique_list:\n",
        "            unique_list.append(x)\n",
        "    return unique_list"
      ],
      "metadata": {
        "id": "pOhTHMbjFMhb"
      },
      "execution_count": 3,
      "outputs": []
    },
    {
      "cell_type": "markdown",
      "source": [
        "#getting json query data"
      ],
      "metadata": {
        "id": "ilQgM7m3BPgs"
      }
    },
    {
      "cell_type": "code",
      "source": [
        "import json\n",
        "\n",
        "\n",
        "with open('queries_train.json', 'rt') as f:\n",
        "  queries_to_docs_raw = json.load(f)\n",
        "\n",
        "doc_lst=flatten_lst([docs for q,docs in queries_to_docs_raw.items()])\n"
      ],
      "metadata": {
        "id": "b4AgDWF4TwXa"
      },
      "execution_count": 4,
      "outputs": []
    },
    {
      "cell_type": "markdown",
      "source": [
        "#**index from assignment 2**"
      ],
      "metadata": {
        "id": "CJlA9PHUI8Ai"
      }
    },
    {
      "cell_type": "code",
      "source": [
        "import sys\n",
        "from collections import Counter, OrderedDict, defaultdict\n",
        "import itertools\n",
        "from itertools import islice, count, groupby\n",
        "import os\n",
        "import re\n",
        "from operator import itemgetter\n",
        "from pathlib import Path\n",
        "import pickle\n",
        "from contextlib import closing\n",
        "\n",
        "BLOCK_SIZE = 1999998\n",
        "\n",
        "class MultiFileWriter:\n",
        "    \"\"\" Sequential binary writer to multiple files of up to BLOCK_SIZE each. \"\"\"\n",
        "    def __init__(self, base_dir, name):\n",
        "        self._base_dir = Path(base_dir)\n",
        "        self._name = name\n",
        "        self._file_gen = (open(self._base_dir / f'{name}_{i:03}.bin', 'wb') \n",
        "                          for i in itertools.count())\n",
        "        self._f = next(self._file_gen)\n",
        "    \n",
        "    def write(self, b):\n",
        "      locs = []\n",
        "      while len(b) > 0:\n",
        "        pos = self._f.tell()\n",
        "        remaining = BLOCK_SIZE - pos\n",
        "        # if the current file is full, close and open a new one.\n",
        "        if remaining == 0:  \n",
        "          self._f.close()\n",
        "          self._f = next(self._file_gen)\n",
        "          pos, remaining = 0, BLOCK_SIZE\n",
        "        self._f.write(b[:remaining])\n",
        "        locs.append((self._f.name, pos))\n",
        "        b = b[remaining:]\n",
        "      return locs\n",
        "\n",
        "    def close(self):\n",
        "      self._f.close()\n",
        "\n",
        "class MultiFileReader:\n",
        "  \"\"\" Sequential binary reader of multiple files of up to BLOCK_SIZE each. \"\"\"\n",
        "  def __init__(self):\n",
        "    self._open_files = {}\n",
        "\n",
        "  def read(self, locs, n_bytes):\n",
        "    b = []\n",
        "    for f_name, offset in locs:\n",
        "      if f_name not in self._open_files:\n",
        "        self._open_files[f_name] = open(f_name, 'rb')\n",
        "      f = self._open_files[f_name]\n",
        "      f.seek(offset)\n",
        "      n_read = builtins.min(n_bytes, BLOCK_SIZE - offset)\n",
        "      b.append(f.read(n_read))\n",
        "      n_bytes -= n_read\n",
        "    return b''.join(b)\n",
        "  \n",
        "  def close(self):\n",
        "    for f in self._open_files.values():\n",
        "      f.close()\n",
        "\n",
        "  def __exit__(self, exc_type, exc_value, traceback):\n",
        "    self.close()\n",
        "    return False\n",
        "\n",
        "TUPLE_SIZE = 6       # We're going to pack the doc_id and tf values in this \n",
        "                     # many bytes.\n",
        "TF_MASK = 2 ** 16 - 1 # Masking the 16 low bits of an integer\n",
        "\n",
        "class InvertedIndex:  \n",
        "  def __init__(self, docs={}):\n",
        "    \"\"\" Initializes the inverted index and add documents to it (if provided).\n",
        "    Parameters:\n",
        "    -----------\n",
        "      docs: dict mapping doc_id to list of tokens\n",
        "    \"\"\"\n",
        "    # stores document frequency per term\n",
        "    self.df = Counter()\n",
        "    # stores total frequency per term\n",
        "    self.term_total = Counter()\n",
        "    # stores posting list per term while building the index (internally), \n",
        "    # otherwise too big to store in memory.\n",
        "    self._posting_list = defaultdict(list)\n",
        "    # mapping a term to posting file locations, which is a list of \n",
        "    # (file_name, offset) pairs. Since posting lists are big we are going to\n",
        "    # write them to disk and just save their location in this list. We are \n",
        "    # using the MultiFileWriter helper class to write fixed-size files and store\n",
        "    # for each term/posting list its list of locations. The offset represents \n",
        "    # the number of bytes from the beginning of the file where the posting list\n",
        "    # starts. \n",
        "    self.posting_locs = defaultdict(list)\n",
        "\n",
        "\n",
        "    \n",
        "    for doc_id, tokens in docs.items():\n",
        "      self.add_doc(doc_id, tokens)\n",
        "\n",
        "  def add_doc(self, doc_id, tokens):\n",
        "    \"\"\" Adds a document to the index with a given `doc_id` and tokens. It counts\n",
        "        the tf of tokens, then update the index (in memory, no storage \n",
        "        side-effects).\n",
        "    \"\"\"\n",
        "    w2cnt = Counter(tokens)\n",
        "    self.term_total.update(w2cnt)\n",
        "    for w, cnt in w2cnt.items():\n",
        "      self.df[w] = self.df.get(w, 0) + 1\n",
        "      self._posting_list[w].append((doc_id, cnt))\n",
        "\n",
        "  def write_index(self, base_dir, name):\n",
        "    \"\"\" Write the in-memory index to disk. Results in the file: \n",
        "        (1) `name`.pkl containing the global term stats (e.g. df).\n",
        "    \"\"\"\n",
        "    self._write_globals(base_dir, name)\n",
        "\n",
        "  def _write_globals(self, base_dir, name):\n",
        "    with open(Path(base_dir) / f'{name}.pkl', 'wb') as f:\n",
        "      pickle.dump(self, f)\n",
        "\n",
        "  def __getstate__(self):\n",
        "    \"\"\" Modify how the object is pickled by removing the internal posting lists\n",
        "        from the object's state dictionary. \n",
        "    \"\"\"\n",
        "    state = self.__dict__.copy()\n",
        "    del state['_posting_list']\n",
        "    return state\n",
        "\n",
        "  def posting_lists_iter(self):\n",
        "    \"\"\" A generator that reads one posting list from disk and yields \n",
        "        a (word:str, [(doc_id:int, tf:int), ...]) tuple.\n",
        "    \"\"\"\n",
        "    with closing(MultiFileReader()) as reader:\n",
        "      for w, locs in self.posting_locs.items():\n",
        "        b = reader.read(locs, self.df[w] * TUPLE_SIZE)\n",
        "        posting_list = []\n",
        "        for i in range(self.df[w]):\n",
        "          doc_id = int.from_bytes(b[i*TUPLE_SIZE:i*TUPLE_SIZE+4], 'big')\n",
        "          tf = int.from_bytes(b[i*TUPLE_SIZE+4:(i+1)*TUPLE_SIZE], 'big')\n",
        "          posting_list.append((doc_id, tf))\n",
        "        yield w, posting_list\n",
        "\n",
        "\n",
        "  @staticmethod\n",
        "  def read_index(base_dir, name):\n",
        "    with open(Path(base_dir) / f'{name}.pkl', 'rb') as f:\n",
        "      return pickle.load(f)\n",
        "\n",
        "  @staticmethod\n",
        "  def delete_index(base_dir, name):\n",
        "    path_globals = Path(base_dir) / f'{name}.pkl'\n",
        "    path_globals.unlink()\n",
        "    for p in Path(base_dir).rglob(f'{name}_*.bin'):\n",
        "      p.unlink()\n",
        "\n",
        "\n",
        "  @staticmethod\n",
        "  def write_a_posting_list(b_w_pl,location):\n",
        "    ''' Takes a (bucket_id, [(w0, posting_list_0), (w1, posting_list_1), ...]) \n",
        "    and writes it out to disk as files named {bucket_id}_XXX.bin under the \n",
        "    current directory. Returns a posting locations dictionary that maps each \n",
        "    word to the list of files and offsets that contain its posting list.\n",
        "    Parameters:\n",
        "    -----------\n",
        "      b_w_pl: tuple\n",
        "        Containing a bucket id and all (word, posting list) pairs in that bucket\n",
        "        (bucket_id, [(w0, posting_list_0), (w1, posting_list_1), ...])\n",
        "    Return:\n",
        "      posting_locs: dict\n",
        "        Posting locations for each of the words written out in this bucket.\n",
        "    '''\n",
        "    posting_locs = defaultdict(list)\n",
        "    bucket, list_w_pl = b_w_pl\n",
        "\n",
        "    with closing(MultiFileWriter(location, bucket)) as writer:\n",
        "      for w, pl in list_w_pl: \n",
        "        # convert to bytes\n",
        "        b = b''.join([(doc_id << 16 | (tf & TF_MASK)).to_bytes(TUPLE_SIZE, 'big')\n",
        "                      for doc_id, tf in pl])\n",
        "        # write to file(s)\n",
        "        locs = writer.write(b)\n",
        "      # save file locations to index\n",
        "        posting_locs[w].extend(locs)\n",
        "    return posting_locs"
      ],
      "metadata": {
        "id": "LpAlNcW2wGwv"
      },
      "execution_count": 5,
      "outputs": []
    },
    {
      "cell_type": "markdown",
      "source": [
        "# pyspark crap and getting data from the bucket"
      ],
      "metadata": {
        "id": "aTO0Fd5I-OpC"
      }
    },
    {
      "cell_type": "code",
      "source": [
        "!pip install -q pyspark\n",
        "!pip install -U -q PyDrive\n",
        "!apt-get update\n",
        "!apt install openjdk-8-jdk-headless -qq\n",
        "!pip install -q graphframes\n",
        "import os\n",
        "os.environ[\"JAVA_HOME\"] = \"/usr/lib/jvm/java-8-openjdk-amd64\"\n",
        "graphframes_jar = 'https://repos.spark-packages.org/graphframes/graphframes/0.8.2-spark3.2-s_2.12/graphframes-0.8.2-spark3.2-s_2.12.jar'\n",
        "spark_jars = '/usr/local/lib/python3.7/dist-packages/pyspark/jars'\n",
        "!wget -N -P $spark_jars $graphframes_jar\n",
        "import pyspark\n",
        "from pyspark.sql import *\n",
        "from pyspark.sql.functions import *\n",
        "from pyspark import SparkContext, SparkConf\n",
        "from pyspark.sql import SQLContext\n",
        "from pyspark.ml.feature import Tokenizer, RegexTokenizer\n",
        "from graphframes import *\n"
      ],
      "metadata": {
        "id": "fWXXi_uK0E4P",
        "outputId": "6a934562-7b15-4183-ce68-ed1bbee79723",
        "colab": {
          "base_uri": "https://localhost:8080/"
        }
      },
      "execution_count": 6,
      "outputs": [
        {
          "output_type": "stream",
          "name": "stdout",
          "text": [
            "Hit:1 https://cloud.r-project.org/bin/linux/ubuntu bionic-cran40/ InRelease\n",
            "Ign:2 https://developer.download.nvidia.com/compute/cuda/repos/ubuntu1804/x86_64  InRelease\n",
            "Ign:3 https://developer.download.nvidia.com/compute/machine-learning/repos/ubuntu1804/x86_64  InRelease\n",
            "Hit:4 https://developer.download.nvidia.com/compute/cuda/repos/ubuntu1804/x86_64  Release\n",
            "Hit:5 https://developer.download.nvidia.com/compute/machine-learning/repos/ubuntu1804/x86_64  Release\n",
            "Get:6 http://security.ubuntu.com/ubuntu bionic-security InRelease [88.7 kB]\n",
            "Hit:8 http://ppa.launchpad.net/c2d4u.team/c2d4u4.0+/ubuntu bionic InRelease\n",
            "Hit:9 http://archive.ubuntu.com/ubuntu bionic InRelease\n",
            "Hit:11 http://archive.ubuntu.com/ubuntu bionic-updates InRelease\n",
            "Hit:12 http://ppa.launchpad.net/cran/libgit2/ubuntu bionic InRelease\n",
            "Hit:13 http://archive.ubuntu.com/ubuntu bionic-backports InRelease\n",
            "Hit:14 http://ppa.launchpad.net/deadsnakes/ppa/ubuntu bionic InRelease\n",
            "Hit:15 http://ppa.launchpad.net/graphics-drivers/ppa/ubuntu bionic InRelease\n",
            "Fetched 88.7 kB in 3s (32.9 kB/s)\n",
            "Reading package lists... Done\n",
            "openjdk-8-jdk-headless is already the newest version (8u312-b07-0ubuntu1~18.04).\n",
            "0 upgraded, 0 newly installed, 0 to remove and 59 not upgraded.\n",
            "--2022-01-05 09:11:26--  https://repos.spark-packages.org/graphframes/graphframes/0.8.2-spark3.2-s_2.12/graphframes-0.8.2-spark3.2-s_2.12.jar\n",
            "Resolving repos.spark-packages.org (repos.spark-packages.org)... 13.35.162.96, 13.35.162.116, 13.35.162.69, ...\n",
            "Connecting to repos.spark-packages.org (repos.spark-packages.org)|13.35.162.96|:443... connected.\n",
            "HTTP request sent, awaiting response... 304 Not Modified\n",
            "File ‘/usr/local/lib/python3.7/dist-packages/pyspark/jars/graphframes-0.8.2-spark3.2-s_2.12.jar’ not modified on server. Omitting download.\n",
            "\n"
          ]
        }
      ]
    },
    {
      "cell_type": "code",
      "source": [
        "# Initializing spark context\n",
        "# create a spark context and session\n",
        "conf = SparkConf().set(\"spark.ui.port\", \"4050\")\n",
        "sc = SparkContext.getOrCreate(conf=conf)\n",
        "sc.addPyFile(str(Path(spark_jars) / Path(graphframes_jar).name))\n",
        "spark = SparkSession.builder.getOrCreate()"
      ],
      "metadata": {
        "id": "QmDBuCAj-MHY"
      },
      "execution_count": 7,
      "outputs": []
    },
    {
      "cell_type": "markdown",
      "source": [
        "Copying Wikidata"
      ],
      "metadata": {
        "id": "mo2yEIOX8u95"
      }
    },
    {
      "cell_type": "code",
      "source": [
        "# Authenticate your user\n",
        "# The authentication should be done with the email connected to your GCP account\n",
        "from google.colab import auth\n",
        "auth.authenticate_user()"
      ],
      "metadata": {
        "id": "-HA-zidH8yZ5"
      },
      "execution_count": 8,
      "outputs": []
    },
    {
      "cell_type": "code",
      "source": [
        "# Copy one wikidumps files \n",
        "import os\n",
        "from pathlib import Path\n",
        "from google.colab import auth\n",
        "\n",
        "project_id = 'core-period-321814'\n",
        "!gcloud config set project {project_id}\n",
        "\n",
        "data_bucket_name = 'wikidata_preprocessed'\n",
        "try:\n",
        "    if os.environ[\"wikidata_preprocessed\"] is not None:\n",
        "        pass  \n",
        "except:\n",
        "      !mkdir wikidumps\n",
        "      !gsutil cp gs://{data_bucket_name}/multistream1_preprocessed.parquet \"wikidumps/\" \n"
      ],
      "metadata": {
        "id": "tSEWv75R8zOz",
        "colab": {
          "base_uri": "https://localhost:8080/"
        },
        "outputId": "62d6d45b-a750-4e1b-b763-e497949d6c82"
      },
      "execution_count": 9,
      "outputs": [
        {
          "output_type": "stream",
          "name": "stdout",
          "text": [
            "Updated property [core/project].\n",
            "\u001b[1;33mWARNING:\u001b[0m You do not appear to have access to project [core-period-321814] or it does not exist.\n",
            "mkdir: cannot create directory ‘wikidumps’: File exists\n",
            "Copying gs://wikidata_preprocessed/multistream1_preprocessed.parquet...\n",
            "/ [1 files][316.7 MiB/316.7 MiB]                                                \n",
            "Operation completed over 1 objects/316.7 MiB.                                    \n"
          ]
        }
      ]
    },
    {
      "cell_type": "markdown",
      "source": [
        "#getting wiki data"
      ],
      "metadata": {
        "id": "VEM0wf9mAdTN"
      }
    },
    {
      "cell_type": "code",
      "source": [
        "from pathlib import Path \n",
        "import os\n",
        "\n",
        "try:\n",
        "    if os.environ[\"wikidata_preprocessed\"] is not None:\n",
        "      path = os.environ[\"wikidata_preprocessed\"]+\"/wikidumps/*\"\n",
        "except:\n",
        "      path = \"wikidumps/*\"\n",
        "\n",
        "parquetFile = spark.read.parquet(path)\n",
        "wiki_data_body = parquetFile.select(\"id\",\"text\").rdd.filter(lambda x: x[0] in doc_lst)\n",
        "wiki_data_anchor = parquetFile.select(\"id\",\"anchor_text\").rdd.filter(lambda x: x[0] in doc_lst)\n",
        "wiki_data_title = parquetFile.select(\"id\",\"title\").rdd.filter(lambda x: x[0] in doc_lst)\n",
        "\n"
      ],
      "metadata": {
        "id": "rU7XuQDj84K5"
      },
      "execution_count": 10,
      "outputs": []
    },
    {
      "cell_type": "markdown",
      "source": [
        "#tf,df and other helpers"
      ],
      "metadata": {
        "id": "_H4UmiLSAGA8"
      }
    },
    {
      "cell_type": "code",
      "source": [
        "english_stopwords = frozenset(stopwords.words('english'))\n",
        "corpus_stopwords = [\"category\", \"references\", \"also\", \"external\", \"links\", #TODO: CHECK IF NEED TO ADD\n",
        "                    \"may\", \"first\", \"see\", \"history\", \"people\", \"one\", \"two\", \n",
        "                    \"part\", \"thumb\", \"including\", \"second\", \"following\", \n",
        "                    \"many\", \"however\", \"would\", \"became\"]\n",
        "all_stopwords = english_stopwords.union(corpus_stopwords)\n",
        "RE_WORD = re.compile(r\"\"\"[\\#\\@\\w](['\\-]?\\w){2,24}\"\"\", re.UNICODE)\n",
        "\n",
        "NUM_BUCKETS = 124\n",
        "def token2bucket_id(token):\n",
        "  return int(_hash(token),16) % NUM_BUCKETS\n",
        "\n",
        "# Calc TF\n",
        "# Returns a list of (token, (doc_id, tf)) pairs for each token (word) in the text\n",
        "def word_count(id,text):\n",
        "  ''' Count the frequency of each word in `text` (tf) that is not included in \n",
        "  `all_stopwords` and return entries that will go into our posting lists. \n",
        "  Parameters:\n",
        "  -----------\n",
        "    text: str\n",
        "      Text of one document\n",
        "    id: int\n",
        "      Document id\n",
        "  Returns:\n",
        "  --------\n",
        "    List of tuples\n",
        "      A list of (token, (doc_id, tf)) pairs \n",
        "      for example: [(\"Anarchism\", (12, 5)), ...]\n",
        "  '''\n",
        "  tokens = [token.group() for token in RE_WORD.finditer(text.lower())]\n",
        " \n",
        "  terms = {}\n",
        "  tf = Counter()\n",
        "  for token in tokens:\n",
        "    if token in all_stopwords:\n",
        "      continue\n",
        "    current = tf.get(token, 0)\n",
        "    tf[token] = current + 1\n",
        "    terms[token] = (id,current +1)\n",
        "\n",
        "\n",
        "  return list(terms.items())\n",
        "\n",
        "# Returns a sorted posting list from an unsorted posting list. Sorting by tf of doc id\n",
        "def reduce_word_counts(unsorted_pl):\n",
        "  ''' Returns a sorted posting list by wiki_id.\n",
        "  Parameters:\n",
        "  -----------\n",
        "    unsorted_pl: list of tuples\n",
        "      A list of (wiki_id, tf) tuples \n",
        "  Returns:\n",
        "  --------\n",
        "    list of tuples\n",
        "      A sorted posting list.\n",
        "  '''\n",
        "\n",
        "  return(sorted(unsorted_pl, key = lambda x: x[0]))\n",
        "\n",
        "def calculate_df(postings):\n",
        "  ''' Takes a posting list RDD and calculate the df for each token.\n",
        "  Parameters:\n",
        "  -----------\n",
        "    postings: RDD\n",
        "      An RDD where each element is a (token, posting_list) pair.\n",
        "  Returns:\n",
        "  --------\n",
        "    RDD\n",
        "      An RDD where each element is a (token, df) pair.\n",
        "  '''\n",
        "  # YOUR CODE HERE\n",
        "  return postings.map(lambda x: (x[0],len(x[1]))).partitionBy(16)\n",
        "\n",
        "def partition_postings_and_write(postings,location):\n",
        "  ''' A function that partitions the posting lists into buckets, writes out \n",
        "  all posting lists in a bucket to disk, and returns the posting locations for \n",
        "  each bucket. Partitioning should be done through the use of `token2bucket` \n",
        "  above. Writing to disk should use the function  `write_a_posting_list`, a \n",
        "  static method implemented in inverted_index_colab.py under the InvertedIndex \n",
        "  class. \n",
        "  Parameters:\n",
        "  -----------\n",
        "    postings: RDD\n",
        "      An RDD where each item is a (w, posting_list) pair.\n",
        "  Returns:\n",
        "  --------\n",
        "    RDD\n",
        "      An RDD where each item is a posting locations dictionary for a bucket. The\n",
        "      posting locations maintain a list for each word of file locations and \n",
        "      offsets its posting list was written to. See `write_a_posting_list` for \n",
        "      more details.\n",
        "  '''\n",
        "  res = defaultdict(list)\n",
        "  output_list = []\n",
        "  bucketed_postings = postings.map(lambda x:(token2bucket_id(x[0]),x)).groupByKey()\n",
        "  for id,content in bucketed_postings.toLocalIterator():\n",
        "    #output_list.append(InvertedIndex.write_a_posting_list((id,content),\"208994616\")) #for gcp ########################################################\n",
        "    output_list.append(InvertedIndex.write_a_posting_list((id,content),location))\n",
        "  sc = SparkContext.getOrCreate(SparkConf().setMaster(\"local[*]\"))\n",
        "  return sc.parallelize(output_list,numSlices=16)"
      ],
      "metadata": {
        "id": "LAufaR--XYOQ"
      },
      "execution_count": 11,
      "outputs": []
    },
    {
      "cell_type": "markdown",
      "source": [
        "#building the index : <font color='red'>no need</font>\n",
        "\n",
        "> Indented block\n",
        "\n"
      ],
      "metadata": {
        "id": "Fi_k6ZuUAikc"
      }
    },
    {
      "cell_type": "code",
      "source": [
        "def build_index_ver1(rdd_data,location):\n",
        "    word_counts = rdd_data.flatMap(lambda x: word_count(x[0], x[1]))\n",
        "    postings = word_counts.groupByKey().mapValues(reduce_word_counts)\n",
        "\n",
        "    w2df = calculate_df(postings)\n",
        "    w2df_dict = w2df.collectAsMap()\n",
        "    posting_locs_list = partition_postings_and_write(postings,location).collect()\n",
        "\n",
        "    super_posting_locs = defaultdict(list)\n",
        "    for posting_loc in posting_locs_list:\n",
        "      for k, v in posting_loc.items():\n",
        "        super_posting_locs[k].extend(v)\n",
        "\n",
        "    # Create inverted index instance\n",
        "    inverted = InvertedIndex()\n",
        "    # Adding the posting locations dictionary to the inverted index\n",
        "    inverted.posting_locs = super_posting_locs\n",
        "    # Add the token - df dictionary to the inverted index\n",
        "    inverted.df = w2df_dict\n",
        "    # write the global stats out\n",
        "\n",
        "    inverted.write_index(location, 'index')\n",
        "\n",
        "    return inverted\n",
        "\n",
        "#index_body=build_index_ver1(wiki_data_body,'./body_index')\n",
        "# \n",
        "#index_title=build_index_ver1(wiki_data_title,'./title_index')\n"
      ],
      "metadata": {
        "id": "7LjMM0TGcSjJ"
      },
      "execution_count": 12,
      "outputs": []
    },
    {
      "cell_type": "code",
      "source": [
        "def word_count_anchor(id,list_of_tupels):\n",
        "  ''' Count the frequency of each word in `text` (tf) that is not included in \n",
        "  `all_stopwords` and return entries that will go into our posting lists. \n",
        "  Parameters:\n",
        "  -----------\n",
        "    text: str\n",
        "      Text of one document\n",
        "    id: int\n",
        "      Document id\n",
        "  Returns:\n",
        "  --------\n",
        "    List of tuples\n",
        "      A list of (token, (doc_id, tf)) pairs \n",
        "      for example: [(\"Anarchism\", (12, 5)), ...]\n",
        "  '''\n",
        "  t=flatten_lst([RE_WORD.finditer(text.lower()) for dest_id,text in list_of_tupels])\n",
        "\n",
        "  tokens = [token.group() for token in t]\n",
        "\n",
        "  terms = {}\n",
        "  tf = Counter()\n",
        "  for token in tokens:\n",
        "    if token in all_stopwords:\n",
        "      continue\n",
        "    current = tf.get(token, 0)\n",
        "    tf[token] = current + 1\n",
        "    terms[token] = (id,current +1)\n",
        "\n",
        "\n",
        "  return list(terms.items())\n",
        "\n",
        "def build_index_ver2(rdd_data,location):\n",
        "    word_counts_body = rdd_data.flatMap(lambda x: word_count_anchor(x[0], x[1]))\n",
        "    postings = word_counts_body.groupByKey().mapValues(reduce_word_counts)\n",
        "\n",
        "    w2df = calculate_df(postings)\n",
        "\n",
        "    w2df_dict = w2df.collectAsMap()\n",
        "    posting_locs_list = partition_postings_and_write(postings,location).collect()\n",
        "\n",
        "    super_posting_locs = defaultdict(list)\n",
        "    for posting_loc in posting_locs_list:\n",
        "      for k, v in posting_loc.items():\n",
        "        super_posting_locs[k].extend(v)\n",
        "\n",
        "    # Create inverted index instance\n",
        "    inverted = InvertedIndex()\n",
        "    # Adding the posting locations dictionary to the inverted index\n",
        "    inverted.posting_locs = super_posting_locs\n",
        "    # Add the token - df dictionary to the inverted index\n",
        "    inverted.df = w2df_dict\n",
        "    # write the global stats out\n",
        "    inverted.write_index(location, 'index')\n",
        "\n",
        "    return inverted\n",
        "\n",
        "\n",
        "#index_anchor=build_index_ver2(wiki_data_anchor,'./anchor_index')"
      ],
      "metadata": {
        "id": "dCgZEK6zIZD5"
      },
      "execution_count": 13,
      "outputs": []
    },
    {
      "cell_type": "code",
      "source": [
        "# Indexbuilding - Change to \"True\" to build index\n",
        "if False:\n",
        "  print(\"Creating indices folders\")\n",
        "  !mkdir body_index title_index anchor_index\n",
        "  print(\"Building body index.\")\n",
        "  index_body=build_index_ver1(wiki_data_body,'./body_index')\n",
        "  print(\"Building body index done. Building title index.\")\n",
        "  index_title=build_index_ver1(wiki_data_title,'./title_index')\n",
        "  print(\"Building title index done. Building anchor text index.\")\n",
        "  index_anchor=build_index_ver2(wiki_data_anchor,'./anchor_index')\n",
        "  print(\"Building anchor text index done. Indexing completed.\")"
      ],
      "metadata": {
        "id": "yhQtxuGhGC_A",
        "colab": {
          "base_uri": "https://localhost:8080/"
        },
        "outputId": "82f5ad72-0f58-491e-801f-feca1abb6b6e"
      },
      "execution_count": 90,
      "outputs": [
        {
          "output_type": "stream",
          "name": "stdout",
          "text": [
            "Creating indices folders\n",
            "Building body index.\n",
            "Building body index done. Building title index.\n",
            "Building title index done. Building anchor text index.\n",
            "Building anchor text index done. Indexing completed.\n"
          ]
        }
      ]
    },
    {
      "cell_type": "markdown",
      "source": [
        "#queries actions\n"
      ],
      "metadata": {
        "id": "rGliVCa-AVt8"
      }
    },
    {
      "cell_type": "code",
      "source": [
        "queries=[q for q,d in queries_to_docs_raw.items()]\n",
        "q_tokenes_lst=[q.split() for q in queries]\n",
        "all_terms=[item for sublist in q_tokenes_lst for item in sublist]\n",
        "q_tokenes_dict={i:q for i,q in enumerate(q_tokenes_lst)}\n"
      ],
      "metadata": {
        "id": "JwMfvxFuUPPn"
      },
      "execution_count": 15,
      "outputs": []
    },
    {
      "cell_type": "markdown",
      "source": [
        "# loading big index and DLs : <font color='green'>Indexes here</font>"
      ],
      "metadata": {
        "id": "mpJvUecb_POD"
      }
    },
    {
      "cell_type": "code",
      "source": [
        "from google.colab import drive\n",
        "drive.mount('/content/drive')\n",
        "\n",
        "drive_base_path='./drive/MyDrive/'"
      ],
      "metadata": {
        "colab": {
          "base_uri": "https://localhost:8080/"
        },
        "id": "UsVPqx4b_IHV",
        "outputId": "3a017809-50d6-48ee-c451-c42f272498d7"
      },
      "execution_count": 16,
      "outputs": [
        {
          "output_type": "stream",
          "name": "stdout",
          "text": [
            "Drive already mounted at /content/drive; to attempt to forcibly remount, call drive.mount(\"/content/drive\", force_remount=True).\n"
          ]
        }
      ]
    },
    {
      "cell_type": "markdown",
      "source": [
        "loading DLs"
      ],
      "metadata": {
        "id": "x51-BuxWK-9I"
      }
    },
    {
      "cell_type": "code",
      "source": [
        "\n",
        "with open(drive_base_path+\"title_index/\"+'title_DL.json', 'rt') as f:\n",
        "  title_DL = json.load(f)\n",
        "with open(drive_base_path+\"anchor_index/\"+'anchor_DL.json', 'rt') as f:\n",
        "  anchor_DL = json.load(f)\n",
        "with open(drive_base_path+\"body_index/\"+'body_DL.json', 'rt') as f:\n",
        "  body_DL = json.load(f)\n",
        "\n"
      ],
      "metadata": {
        "id": "v7oRmkHR_Vs8"
      },
      "execution_count": 17,
      "outputs": []
    },
    {
      "cell_type": "markdown",
      "source": [
        "loading indexes"
      ],
      "metadata": {
        "id": "0dtBiZeVQBXA"
      }
    },
    {
      "cell_type": "code",
      "source": [
        "title_index=InvertedIndex.read_index(drive_base_path+'title_index', 'index')\n",
        "anchor_index=InvertedIndex.read_index(drive_base_path+'anchor_index', 'index')\n",
        "body_index=InvertedIndex.read_index(drive_base_path+'body_index', 'index')\n",
        "\n",
        "!cp drive_base_path+'body_index'"
      ],
      "metadata": {
        "id": "disBA4g8LaNG",
        "colab": {
          "base_uri": "https://localhost:8080/"
        },
        "outputId": "ae884bab-0379-4615-c369-9c745e2e68b2"
      },
      "execution_count": 18,
      "outputs": [
        {
          "output_type": "stream",
          "name": "stdout",
          "text": [
            "cp: missing destination file operand after 'drive_base_path+body_index'\n",
            "Try 'cp --help' for more information.\n"
          ]
        }
      ]
    },
    {
      "cell_type": "markdown",
      "source": [
        "Changing posting locs to match local colab file location"
      ],
      "metadata": {
        "id": "b6xelcVSHza1"
      }
    },
    {
      "cell_type": "code",
      "source": [
        "def change_index_locs(index):\n",
        "    for term,loc_tuple in index.posting_locs.items():\n",
        "      new_list = []\n",
        "      for loc,offset in loc_tuple:\n",
        "        splited = loc.split(\"/\")\n",
        "        for part in splited:\n",
        "          if \"index\" in part:\n",
        "            rebuilt = part\n",
        "          if \"bin\" in part:\n",
        "            rebuilt = \"/content/drive/MyDrive/\" + rebuilt + \"/\" + part\n",
        "        loc_tuple = (rebuilt,offset)\n",
        "        new_list.append(loc_tuple)\n",
        "      index.posting_locs[term] = new_list\n",
        "if True: #Change to \"True\" to enable\n",
        "  change_index_locs(body_index)\n",
        "  change_index_locs(anchor_index)\n",
        "  change_index_locs(title_index)\n",
        "\n",
        "\n"
      ],
      "metadata": {
        "id": "jhIDmsKwHyXD"
      },
      "execution_count": 19,
      "outputs": []
    },
    {
      "cell_type": "code",
      "source": [
        "  # lst=list(title_index.posting_locs.values())[0]\n",
        "\n",
        "  # with closing(MultiFileReader()) as reader:\n",
        "  #   res=reader.read(lst, BLOCK_SIZE)\n",
        "  # res\n",
        "\n",
        "def find_postings(terms,index):\n",
        "    res={}\n",
        "    with closing(MultiFileReader()) as reader:\n",
        "        for w, locs in index.posting_locs.items():\n",
        "          if(res.keys()==terms):\n",
        "          #if (terms in res.keys()):\n",
        "            break\n",
        "          if(w not in terms):\n",
        "            continue\n",
        "          else:\n",
        "            b = reader.read(locs, index.df[w] * TUPLE_SIZE)\n",
        "            posting_list = []\n",
        "            for i in range(index.df[w]):\n",
        "              doc_id = int.from_bytes(b[i*TUPLE_SIZE:i*TUPLE_SIZE+4], 'big')\n",
        "              tf = int.from_bytes(b[i*TUPLE_SIZE+4:(i+1)*TUPLE_SIZE], 'big')\n",
        "              posting_list.append((doc_id, tf))\n",
        "            res[w]=posting_list\n",
        "\n",
        "    return res\n",
        "            "
      ],
      "metadata": {
        "id": "6ZcqOr83jlLY"
      },
      "execution_count": 56,
      "outputs": []
    },
    {
      "cell_type": "markdown",
      "source": [
        "#get top n with cosine simularity on the body index"
      ],
      "metadata": {
        "id": "6mWXTFEV_dd9"
      }
    },
    {
      "cell_type": "code",
      "source": [
        ""
      ],
      "metadata": {
        "id": "R149loGofTfc"
      },
      "execution_count": 20,
      "outputs": []
    },
    {
      "cell_type": "markdown",
      "source": [
        ""
      ],
      "metadata": {
        "id": "rLlrnBimwmnf"
      }
    },
    {
      "cell_type": "code",
      "source": [
        "def tf_idf(t,d,DL,index,tf):\n",
        "  term_freq_not_normelized=tf\n",
        "  D=DL[str(d)]\n",
        "  tf=term_freq_not_normelized/D\n",
        "  N=len(DL)\n",
        "  idf=math.log2(N/index.df[t])\n",
        "  return tf*idf"
      ],
      "metadata": {
        "id": "qxNi4ddcwoUY"
      },
      "execution_count": 83,
      "outputs": []
    },
    {
      "cell_type": "code",
      "source": [
        "\n",
        "def cosine_sim(index,DL,query,N = 3):\n",
        "  dict_count = Counter()\n",
        "  pls = find_postings(np.unique(query).tolist(),index)\n",
        "  tf_q = Counter()\n",
        "  d_tfs = defaultdict(list)\n",
        "  for t in query:\n",
        "    tf_q[t] += 1\n",
        "  for t,pl in pls.items():\n",
        "    for doc_id,tf_d in pl:\n",
        "      tf_idf_val=tf_idf(t,doc_id,DL,index,tf_d)\n",
        "      dict_count[doc_id] += (tf_q[t]) * tf_idf_val\n",
        "      d_tfs[doc_id].append(tf_idf_val)\n",
        "  for doc_id,value in dict_count.items():\n",
        "    dict_count[doc_id] = value*(1/(norm(list(tf_q.values()))))*(1/(norm(list(d_tfs[doc_id]))))\n",
        "  return sorted([(doc_id, builtins.round(score,5)) for doc_id, score in dict_count.items()], key = lambda x: x[1],reverse=True)[:N]\n"
      ],
      "metadata": {
        "id": "Q4RqWISSaj7P"
      },
      "execution_count": 115,
      "outputs": []
    },
    {
      "cell_type": "code",
      "source": [
        ""
      ],
      "metadata": {
        "id": "EmPGFxQKgem_"
      },
      "execution_count": 84,
      "outputs": []
    },
    {
      "cell_type": "code",
      "source": [
        "qid_to_true_docs_dict={i:d[1] for i,d in enumerate(queries_to_docs_raw.items())}\n",
        "d = {}\n",
        "queries = {i:[t.lower() for t in q_lst] for i,q_lst in q_tokenes_dict.items()}\n",
        "\n",
        "for query in queries:\n",
        "  d[query] = cosine_sim(index_body,body_DL,queries[query],40)"
      ],
      "metadata": {
        "id": "q61-a_HYnxNL"
      },
      "execution_count": 99,
      "outputs": []
    },
    {
      "cell_type": "code",
      "source": [
        "D={}\n",
        "for query in queries:\n",
        "  D[query] = cosine_sim(body_index,body_DL,queries[query],40)"
      ],
      "metadata": {
        "id": "mVURFN9fPRF6"
      },
      "execution_count": 116,
      "outputs": []
    },
    {
      "cell_type": "markdown",
      "source": [
        "# binary ranking using the title of articles and anchor text\n",
        "\n"
      ],
      "metadata": {
        "id": "-_yrc27ACNwL"
      }
    },
    {
      "cell_type": "code",
      "source": [
        "def binary_ranking_for_anchor_text(query,index):\n",
        "  words,pls=zip(*index.posting_lists_iter())\n",
        "  matches = Counter()\n",
        "  for term in np.unique(query): \n",
        "        if term.lower() in words:            \n",
        "            list_of_doc = pls[words.index(term.lower())]    \n",
        "            for doc_id, freq in list_of_doc:\n",
        "                matches[doc_id] = matches.get(doc_id, 0) + 1\n",
        "  return sorted(matches.items(),key=lambda x:x[1], reverse =True)\n"
      ],
      "metadata": {
        "id": "d3mpgXUADtBZ"
      },
      "execution_count": null,
      "outputs": []
    },
    {
      "cell_type": "code",
      "source": [
        "#Anchor text ranking\n",
        "binary_ranking_for_anchor_text(q_tokenes_lst[0],index_title)"
      ],
      "metadata": {
        "id": "79b64OCWDt92"
      },
      "execution_count": null,
      "outputs": []
    },
    {
      "cell_type": "code",
      "source": [
        "#Title text ranking\n",
        "binary_ranking_for_anchor_text(q_tokenes_lst[1],anchor_index)"
      ],
      "metadata": {
        "id": "JU6jP_1gYkJv"
      },
      "execution_count": null,
      "outputs": []
    },
    {
      "cell_type": "code",
      "source": [
        ""
      ],
      "metadata": {
        "id": "FFc_QYAHCJAP"
      },
      "execution_count": null,
      "outputs": []
    },
    {
      "cell_type": "markdown",
      "source": [
        "# ranking by PageRank "
      ],
      "metadata": {
        "id": "oW8aTbO3DdNz"
      }
    },
    {
      "cell_type": "code",
      "execution_count": null,
      "metadata": {
        "id": "e884236d"
      },
      "outputs": [],
      "source": [
        "# Put your `generate_graph` function here\n",
        "def generate_graph(pages):\n",
        "  ''' Compute the directed graph generated by wiki links.\n",
        "  Parameters:\n",
        "  -----------\n",
        "    pages: RDD\n",
        "      An RDD where each row consists of one wikipedia articles with 'id' and \n",
        "      'anchor_text'.\n",
        "  Returns:\n",
        "  --------\n",
        "    edges: RDD\n",
        "      An RDD where each row represents an edge in the directed graph created by\n",
        "      the wikipedia links. The first entry should the source page id and the \n",
        "      second entry is the destination page id. No duplicates should be present. \n",
        "    vertices: RDD\n",
        "      An RDD where each row represents a vetrix (node) in the directed graph \n",
        "      created by the wikipedia links. No duplicates should be present. \n",
        "  '''\n",
        "  # YOUR CODE HERE\n",
        "\n",
        "  temp = pages.partitionBy(16) #partitioning for speed\n",
        "  sc = SparkContext.getOrCreate(SparkConf().setMaster(\"local[*]\"))\n",
        "  edges = temp.flatMap(lambda x:[(x[0],each[0]) for each in x[1]]).distinct() ## might have dupli\n",
        "  p1 = temp.flatMap(lambda x:[(each[0],) for each in x[1]])\n",
        "  p2 = temp.map(lambda x:(x[0],))\n",
        "  vert = p1.union(p2).distinct()\n",
        "  return edges,vert"
      ]
    },
    {
      "cell_type": "code",
      "execution_count": null,
      "metadata": {
        "id": "5edcc5a0",
        "nbgrader": {
          "grade": false,
          "grade_id": "cell-PageRank",
          "locked": false,
          "schema_version": 3,
          "solution": true,
          "task": false
        }
      },
      "outputs": [],
      "source": [
        "t_start = time()\n",
        "#pages_links = spark.read.parquet(\"gs://wikidata_preprocessed/*\").select(\"id\", \"anchor_text\").rdd\n",
        "# construct the graph \n",
        "edges, vertices = generate_graph(wiki_data_anchor)\n",
        "# compute PageRank\n",
        "edgesDF = edges.toDF(['src', 'dst']).repartition(124, 'src')\n",
        "verticesDF = vertices.toDF(['id']).repartition(124, 'id')\n",
        "g = GraphFrame(verticesDF, edgesDF)\n",
        "pr_results = g.pageRank(resetProbability=0.15, maxIter=6)\n",
        "pr = pr_results.vertices.select(\"id\", \"pagerank\")\n",
        "pr = pr.sort(col('pagerank').desc())\n",
        "#pr.repartition(1).write.csv(f'gs://{bucket_name}/pr', compression=\"gzip\")\n"
      ]
    },
    {
      "cell_type": "code",
      "source": [
        "pr"
      ],
      "metadata": {
        "id": "7Qn2ZO6eSN07"
      },
      "execution_count": null,
      "outputs": []
    },
    {
      "cell_type": "markdown",
      "source": [
        "# ranking by article page views "
      ],
      "metadata": {
        "id": "0H9HtYRnD1l5"
      }
    },
    {
      "cell_type": "code",
      "source": [
        "# Paths\n",
        "# Using user page views (as opposed to spiders and automated traffic) for the \n",
        "# month of August 2021\n",
        "pv_path = 'https://dumps.wikimedia.org/other/pageview_complete/monthly/2021/2021-08/pageviews-202108-user.bz2'\n",
        "p = Path(pv_path) \n",
        "pv_name = p.name\n",
        "pv_temp = f'{p.stem}-4dedup.txt'\n",
        "pv_clean = f'{p.stem}.pkl'\n",
        "# Download the file (2.3GB) \n",
        "!wget -N $pv_path\n",
        "# Filter for English pages, and keep just two fields: article ID (3) and monthly \n",
        "# total number of page views (5). Then, remove lines with article id or page \n",
        "# view values that are not a sequence of digits.\n",
        "!bzcat $pv_name | grep \"^en\\.wikipedia\" | cut -d' ' -f3,5 | grep -P \"^\\d+\\s\\d+$\" > $pv_temp\n",
        "# Create a Counter (dictionary) that sums up the pages views for the same \n",
        "# article, resulting in a mapping from article id to total page views.\n",
        "wid2pv = Counter()\n",
        "with open(pv_temp, 'rt') as f:\n",
        "  for line in f:\n",
        "    parts = line.split(' ')\n",
        "    wid2pv.update({int(parts[0]): int(parts[1])})\n",
        "# write out the counter as binary file (pickle it)\n",
        "with open(pv_clean, 'wb') as f:\n",
        "  pickle.dump(wid2pv, f)\n",
        "# read in the counter\n",
        "with open(pv_clean, 'rb') as f:\n",
        "  wid2pv = pickle.loads(f.read())"
      ],
      "metadata": {
        "id": "S-bCvdFNimGS"
      },
      "execution_count": null,
      "outputs": []
    },
    {
      "cell_type": "markdown",
      "source": [
        "#getting top n with bm25 "
      ],
      "metadata": {
        "id": "opkGx9riBykd"
      }
    },
    {
      "cell_type": "code",
      "execution_count": 130,
      "metadata": {
        "id": "HQKCt86l3_ml"
      },
      "outputs": [],
      "source": [
        "def get_candidate_documents(query_to_search,index,pls):\n",
        "    \"\"\"\n",
        "    Generate a dictionary representing a pool of candidate documents for a given query. \n",
        "    \n",
        "    Parameters:\n",
        "    -----------\n",
        "    query_to_search: list of tokens (str). This list will be preprocessed in advance (e.g., lower case, filtering stopwords, etc.'). \n",
        "                     Example: 'Hello, I love information retrival' --->  ['hello','love','information','retrieval']\n",
        "\n",
        "    index:           inverted index loaded from the corresponding files.\n",
        "\n",
        "    words,pls: generator for working with posting.\n",
        "    Returns:\n",
        "    -----------\n",
        "    list of candidates. In the following format:\n",
        "                                                               key: pair (doc_id,term)\n",
        "                                                               value: tfidf score. \n",
        "    \"\"\"\n",
        "    #pls = find_postings(np.unique(query_to_search),index)\n",
        "    candidates = []    \n",
        "    for term,pl in pls.items():\n",
        "        if term in index.df.keys():        \n",
        "            current_list = pls[term.lower()]    \n",
        "            candidates += current_list  \n",
        "\n",
        "    return np.unique([d for d,s in candidates])\n"
      ]
    },
    {
      "cell_type": "code",
      "execution_count": 172,
      "metadata": {
        "deletable": false,
        "id": "nPOS5HoohGTJ",
        "nbgrader": {
          "cell_type": "code",
          "checksum": "1866e668d1c0d235e49d047c4ff954ad",
          "grade": false,
          "grade_id": "cell-bb4b866e29cf18ab",
          "locked": false,
          "schema_version": 3,
          "solution": true,
          "task": false
        }
      },
      "outputs": [],
      "source": [
        "import math\n",
        "from itertools import chain\n",
        "import time\n",
        "# When preprocessing the data have a dictionary of document length for each document saved in a variable called `DL`.\n",
        "class BM25_from_index:\n",
        "    \"\"\"\n",
        "    Best Match 25.    \n",
        "    ----------\n",
        "    k1 : float, default 1.5\n",
        "\n",
        "    b : float, default 0.75\n",
        "\n",
        "    index: inverted index\n",
        "    \"\"\"\n",
        "\n",
        "    def __init__(self,index,DL,k1=1.5, b=0.75):\n",
        "        self.b = b\n",
        "        self.k1 = k1\n",
        "        self.index = index\n",
        "        self.N = len(DL)\n",
        "        self.AVGDL = builtins.sum(DL.values())/self.N\n",
        "        self.DL = DL\n",
        "        #self.words, self.pls = zip(*self.index.posting_lists_iter())  \n",
        "\n",
        "    def calc_idf(self,list_of_tokens):\n",
        "        \"\"\"\n",
        "        This function calculate the idf values according to the BM25 idf formula for each term in the query.\n",
        "        \n",
        "        Parameters:\n",
        "        -----------\n",
        "        query: list of token representing the query. For example: ['look', 'blue', 'sky']\n",
        "        \n",
        "        Returns:\n",
        "        -----------\n",
        "        idf: dictionary of idf scores. As follows: \n",
        "                                                    key: term\n",
        "                                                    value: bm25 idf score\n",
        "        \"\"\"        \n",
        "        idf = {}        \n",
        "        for term in list_of_tokens:            \n",
        "            if term in self.index.df.keys():\n",
        "                n_ti = self.index.df[term]\n",
        "                idf[term] = math.log(1 + (self.N - n_ti + 0.5) / (n_ti + 0.5))\n",
        "            else:\n",
        "                pass                             \n",
        "        return idf\n",
        "        \n",
        "\n",
        "    def search(self, queries,N=3):\n",
        "        \"\"\"\n",
        "        This function calculate the bm25 score for given query and document.\n",
        "        We need to check only documents which are 'candidates' for a given query. \n",
        "        This function return a dictionary of scores as the following:\n",
        "                                                                    key: query_id\n",
        "                                                                    value: a ranked list of pairs (doc_id, score) in the length of N.\n",
        "        \n",
        "        Parameters:\n",
        "        -----------\n",
        "        query: list of token representing the query. For example: ['look', 'blue', 'sky']\n",
        "        doc_id: integer, document id.\n",
        "        \n",
        "        Returns:\n",
        "        -----------\n",
        "        score: float, bm25 score.\n",
        "        \"\"\"\n",
        "        # YOUR CODE HERE\n",
        "        terms = []\n",
        "        for query in queries:\n",
        "          for term in query:\n",
        "            terms.append(term)\n",
        "        uniques = set(terms)\n",
        "        self.idf = self.calc_idf(uniques)\n",
        "\n",
        "        output = OrderedDict()\n",
        "        for i,query in enumerate(queries):\n",
        "            scores = []\n",
        "            #loading pls for the specific query's terms\n",
        "            pls = find_postings(np.unique(query).tolist(),self.index)\n",
        "            #candidates = get_candidate_documents(query,self.index,self.words,self.pls)\n",
        "            candidates = get_candidate_documents(query,self.index,pls)\n",
        "\n",
        "            #scores.append([(doc_id,builtins.round(self._score(query, doc_id,pls),3)) for doc_id in (([i for i in candidates]))])\n",
        "            #for doc_id in (([i for i in candidates])):\n",
        "            #  scores.append([(doc_id,builtins.round(self._score(query, doc_id,pls),3))\n",
        "            #docs = [doc_id in (([i for i in candidates]))]:\n",
        "            scores = list(self._score(query, candidates,pls).items())\n",
        "            #scores = scores[0]\n",
        "            scores.sort(reverse = True,key = lambda x:x[1])\n",
        "            output[i] = scores[:N]\n",
        "\n",
        "        return output\n",
        "\n",
        "    def _score(self, query, docs,pls):\n",
        "        \"\"\"\n",
        "        This function calculate the bm25 score for given query and document.\n",
        "        \n",
        "        Parameters:\n",
        "        -----------\n",
        "        query: list of token representing the query. For example: ['look', 'blue', 'sky']\n",
        "        doc_id: integer, document id.\n",
        "        \n",
        "        Returns:\n",
        "        -----------\n",
        "        score: float, bm25 score.\n",
        "        \"\"\"        \n",
        "        scores = Counter() #??\n",
        "        #doc_len = self.DL[str(doc_id)]        \n",
        "             \n",
        "        # for term in query:\n",
        "        #     if term in self.index.df.keys():                \n",
        "        #         term_frequencies = dict(pls[term.lower()])                \n",
        "        #         if doc_id in term_frequencies.keys():            \n",
        "        #             freq = term_frequencies[doc_id]\n",
        "        #             numerator = self.idf[term] * freq * (self.k1 + 1)\n",
        "        #             denominator = freq + self.k1 * (1 - self.b + self.b * doc_len / self.AVGDL)\n",
        "        #             score += (numerator / denominator)\n",
        "        for term in query:\n",
        "            if term in self.index.df.keys():                \n",
        "                term_frequencies = dict(pls[term.lower()])\n",
        "                relevent_docs =  intersection(docs,[doc_id for doc_id,tf in term_frequencies.items()])\n",
        "                for doc_id in relevent_docs:\n",
        "                    tf = term_frequencies[doc_id]\n",
        "                    numerator = self.idf[term] * tf * (self.k1 + 1)\n",
        "                    denominator = tf + self.k1 * (1 - self.b + self.b * self.DL[str(doc_id)] / self.AVGDL)\n",
        "                    scores[doc_id] += (numerator / denominator)\n",
        "\n",
        "                # for doc_id,tf in term_frequencies:            \n",
        "                #   if (doc_id in docs):\n",
        "                #     numerator = self.idf[term] * tf * (self.k1 + 1)\n",
        "                #     denominator = tf + self.k1 * (1 - self.b + self.b * self.DL[str(doc_id)] / self.AVGDL)\n",
        "                #     scores[doc_id] += (numerator / denominator)\n",
        "        return scores"
      ]
    },
    {
      "cell_type": "code",
      "execution_count": 173,
      "metadata": {
        "id": "4tQ7pM7oGyAe"
      },
      "outputs": [],
      "source": [
        "bm25_body = BM25_from_index(body_index,body_DL)\n",
        "# for lst in bm25_title.pls:\n",
        "#   if 1 in lst:\n",
        "#     print(lst)\n",
        "quety_terms_lst=[q.lower().split() for q,docs in queries_to_docs_raw.items()]\n",
        "query2doc_bm25=bm25_body.search(quety_terms_lst,N=40)"
      ]
    },
    {
      "cell_type": "markdown",
      "source": [
        "# Estimate\n",
        "\n",
        "\n"
      ],
      "metadata": {
        "id": "bd__I0S85M5p"
      }
    },
    {
      "cell_type": "code",
      "source": [
        "#@title Default title text\n",
        "def intersection(l1,l2):      \n",
        "    \"\"\"\n",
        "    This function perform an intersection between two lists.\n",
        "\n",
        "    Parameters\n",
        "    ----------\n",
        "    l1: list of documents. Each element is a doc_id.\n",
        "    l2: list of documents. Each element is a doc_id.\n",
        "\n",
        "    Returns:\n",
        "    ----------\n",
        "    list with the intersection (without duplicates) of l1 and l2\n",
        "    \"\"\"\n",
        "    return list(builtins.set(l1)&builtins.set(l2))\n",
        "def precision_at_k(true_list,predicted_list,k=40):    \n",
        "    \"\"\"\n",
        "    This function calculate the precision@k metric.\n",
        "\n",
        "    Parameters\n",
        "    -----------\n",
        "    true_list: list of relevant documents. Each element is a doc_id.\n",
        "    predicted_list: sorted list of documents predicted as relevant. Each element is a doc_id. Sorted is performed by relevance score\n",
        "    k: integer, a number to slice the length of the predicted_list\n",
        "    \n",
        "    Returns:\n",
        "    -----------\n",
        "    float, precision@k with 3 digits after the decimal point.\n",
        "    \"\"\"      \n",
        "    # YOUR CODE HERE\n",
        "\n",
        "    up=len(intersection(predicted_list[:k],true_list))\n",
        "    down=k\n",
        "    return builtins.round(up/down,3)\n",
        "\n",
        "def average_precision(true_list,predicted_list,k=40):\n",
        "    \"\"\"\n",
        "    This function calculate the average_precision@k metric.(i.e., precision in every recall point).     \n",
        "\n",
        "    Parameters\n",
        "    -----------\n",
        "    true_list: list of relevant documents. Each element is a doc_id.\n",
        "    predicted_list: sorted list of documents predicted as relevant. Each element is a doc_id. Sorted is performed by relevance score\n",
        "    k: integer, a number to slice the length of the predicted_list\n",
        "    \n",
        "    Returns:\n",
        "    -----------\n",
        "    float, average precision@k with 3 digits after the decimal point.\n",
        "    \"\"\"\n",
        "    # YOUR CODE HERE\n",
        "    # for each relevant doc that in pl and in tl activate p@k and sum them,after \n",
        "    #devide by number of relevant\n",
        "    sum=0\n",
        "    rel=len(intersection(predicted_list[:k],true_list))\n",
        "    if rel==0:\n",
        "      return 0\n",
        "    for i_pl,doc in enumerate(predicted_list[:k]):\n",
        "      if doc in true_list:\n",
        "        sum+=precision_at_k(true_list,predicted_list[:k],i_pl+1)\n",
        "    return builtins.round(sum/rel,3)\n",
        "\n",
        "def mean_ap(true_dict,predicted_dict,k=40):\n",
        "  sum=0\n",
        "  for q_id,true_lst in true_dict.items():\n",
        "    sum+=average_precision(true_lst,predicted_dict[q_id])\n",
        "  return sum/len(true_dict)"
      ],
      "metadata": {
        "cellView": "code",
        "id": "RxpG4Yhgub-M"
      },
      "execution_count": 139,
      "outputs": []
    },
    {
      "cell_type": "code",
      "source": [
        "qid_to_true_docs_dict={i:d[1] for i,d in enumerate(queries_to_docs_raw.items())}\n",
        "qid_to_returned_docs_dict={i:t for i,t in D.items()}\n",
        "res={qid:[k for k,v in tl] for qid,tl in qid_to_returned_docs_dict.items()}\n",
        "map_cosim_body=mean_ap(qid_to_true_docs_dict,res)\n",
        "\n",
        "\n",
        "bm25_dict={qid:[doc for doc,s in lst] for qid,lst in query2doc_bm25.items()}\n",
        "map_bm25_body=mean_ap(qid_to_true_docs_dict,bm25_dict,40)\n",
        "# average_precision(q_tokenes_dict[0],cosine_sim_result[0])"
      ],
      "metadata": {
        "id": "H6A6a4yx6vgO"
      },
      "execution_count": 174,
      "outputs": []
    },
    {
      "cell_type": "code",
      "source": [
        "print('cosine simularity strategy MAP@40 score: '+str(map_cosim_body))\n",
        "print('bm25 strategy MAP@40 score: '+str(map_bm25_body))"
      ],
      "metadata": {
        "id": "i_UVlQIa05BW",
        "colab": {
          "base_uri": "https://localhost:8080/"
        },
        "outputId": "2f2c4275-a8ce-41ea-888c-0e97d56ed5ce"
      },
      "execution_count": 175,
      "outputs": [
        {
          "output_type": "stream",
          "name": "stdout",
          "text": [
            "cosine simularity strategy MAP@40 score: 0.06726666666666667\n",
            "bm25 strategy MAP@40 score: 0.5086666666666666\n"
          ]
        }
      ]
    },
    {
      "cell_type": "code",
      "source": [
        "\n",
        "\n",
        "qid_to_returned_docs_dict={i:t for i,t in D.items()}\n",
        "res={qid:[k for k,v in tl] for qid,tl in qid_to_returned_docs_dict.items()}\n",
        "map_cosim_body=mean_ap(qid_to_true_docs_dict,res)\n",
        "print('cosine simularity strategy MAP@40 score: '+str(map_cosim_body))\n",
        "\n",
        "# bm25_dict={qid:[doc for doc,s in lst] for qid,lst in query2doc_bm25.items()}\n",
        "# map_bm25_body=mean_ap(qid_to_true_docs_dict,bm25_dict,40)\n",
        "# average_precision(q_tokenes_dict[0],cosine_sim_result[0])\n",
        "# print('bm25 strategy MAP@40 score: '+str(map_bm25_body))"
      ],
      "metadata": {
        "id": "MuQ2moe3oL79"
      },
      "execution_count": null,
      "outputs": []
    },
    {
      "cell_type": "code",
      "source": [
        "sum=0\n",
        "for id in qid_to_true_docs_dict[0]:\n",
        "  if id in qid_to_returned_docs_dict[0]:\n",
        "    sum+=1\n",
        "    print(id)\n",
        "print(sum)"
      ],
      "metadata": {
        "id": "vsVFh5DA18r3"
      },
      "execution_count": null,
      "outputs": []
    }
  ]
}